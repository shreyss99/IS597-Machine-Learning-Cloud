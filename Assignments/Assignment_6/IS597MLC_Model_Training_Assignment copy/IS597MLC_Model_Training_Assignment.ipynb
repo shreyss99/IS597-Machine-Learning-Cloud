{
 "cells": [
  {
   "cell_type": "markdown",
   "metadata": {
    "id": "9SoFLIx-rF-N"
   },
   "source": [
    "# IS597MLC: Model Training Assignment "
   ]
  },
  {
   "cell_type": "markdown",
   "metadata": {},
   "source": [
    "### Student Name:   \n",
    "### Net ID:  "
   ]
  },
  {
   "cell_type": "markdown",
   "metadata": {},
   "source": [
    "# Instructions"
   ]
  },
  {
   "cell_type": "markdown",
   "metadata": {},
   "source": [
    "* This assignment consists of four exercises. You are required to write your code in a cell with a comment \"Insert your code here\" included. You may add more cells if needed. \n",
    "\n",
    "* Please do not change exercise numbers or instruction comments. Also, do not remove or modify if any cells include image of expected outputs.  \n",
    "\n",
    "* Please be aware that there is no one absolute solution to answer a question, i.e., tasks can have multiple correct solution methods you can choose from. \n",
    "\n",
    "* Once you have completed all exercises, update the file name by adding your surname and given name at the end of file name (e.g., IS597MLC_Model_Training_Assignment_Kim_Jenna.ipynb).  \n",
    "\n",
    "* Make sure that all the codes in your updated Jupyter Notebook run properly before you submit it. If a grader encounters an error while attempting to run your codes, points will be deducted even if the code looks correct. If you are sure your files are ready to go, include them into a folder with the same naming convention. Zip the folder into one file and upload it to the UIUC Canvas assignment section.     \n",
    "\n",
    "### Your submitted zipped file should include the following items:  \n",
    "**- Updated Jupyter Notebook with your codes included**  \n",
    "**- dataset file provided by the instructor**   \n",
    "**- output files**   "
   ]
  },
  {
   "cell_type": "markdown",
   "metadata": {},
   "source": [
    "## Data set \n",
    "\n",
    "The goal of this assignment is to build machine learning models to predict whether or not a given article is a randomized controlled trial. Two different machine learning algorithms (Support Vector Machine and Random Forest) will be applied to build prediction models using a data set collected from MEDLINE Corpus. Then, these models will be tested using held-out data and the results will be evaluated.  \n",
    "  \n",
    "The dataset was created by querying the MEDLINE database and downloading the publication record in XML format from PubMed. PubMed (https://pubmed.ncbi.nlm.nih.gov/) is a free online database that supports the search and retrieval of biomedical and life science literature. It contains more than 33 million citations and abstracts of biomedical literature. Since its launch in 1996, PubMed has been maintained by the National Center for Biotechnology Information (NCBI) at the U.S. National Library of Medicine (NLM), which is located at the National Institutes of Health (NIH). MEDLINE is one of the NLM literature archives in which searching is facilitated by PubMed.  \n"
   ]
  },
  {
   "cell_type": "markdown",
   "metadata": {},
   "source": [
    "To collect data for this study, Entrez, a PubMed API provided by NCBI, was used to automatically access the database with a code script. It provides 9 E-utilities (https://dataguide.nlm.nih.gov/eutilities/utilities.html#efetch) that can be used for searching a query in the database. The biopython (https://biopython.org/), a python library specially developed for biological computation, was used to communicate with the NCBI Entrez API for retrieving the query results. Queries were restricted to collect the articles written in English and published in the year of 2019. Records were downloaded in XML files, which were then parsed in python to extract the information needed for processing. The final dataset (\"pubmed_rct.txt\") is a txt file with 50,006 instances and 5 attributes: pmid, rct, year, title, abstract. The column named 'rct' contains the target class which includes either 1 (RCT) or 0 (Non-RCT)."
   ]
  },
  {
   "cell_type": "markdown",
   "metadata": {},
   "source": [
    "# Exercise 1 (Regular) "
   ]
  },
  {
   "cell_type": "markdown",
   "metadata": {},
   "source": [
    "## Ex 1-1. Problem Formulation   \n",
    "\n",
    "#### Formulate your research or business question(s) you can think of when you plan to use the dataset provided. You can provide 1 or multiple questions depending on your ideas."
   ]
  },
  {
   "cell_type": "markdown",
   "metadata": {},
   "source": [
    "#### Insert your answer here:   \n",
    "\n"
   ]
  },
  {
   "cell_type": "markdown",
   "metadata": {},
   "source": [
    "## Ex 1-2. Create a 'modules.py' file"
   ]
  },
  {
   "cell_type": "markdown",
   "metadata": {},
   "source": [
    "* This file should include functions to load and pre-process data. You may reuse the functions you created for previous assignments.\n",
    "* The functions in this file should display proper output to keep track of each step.\n",
    "* The functions are required to include a comment (using # or \"\"\") at the top to briefly describes what your code does.  \n",
    "* Import modules to check if all the functions work properly.   \n",
    "* You may call one or more funtions to prove that they run without an error."
   ]
  },
  {
   "cell_type": "code",
   "execution_count": null,
   "metadata": {
    "id": "iCQmTfQRrF-S"
   },
   "outputs": [],
   "source": [
    " from modules import *"
   ]
  },
  {
   "cell_type": "code",
   "execution_count": 2,
   "metadata": {},
   "outputs": [],
   "source": [
    "# Insert your code here\n",
    "\n",
    "#############  Input file name  #############\n",
    "\n",
    "input_filename = \"\"\n",
    "    \n",
    "    \n",
    "#############  Which column to choose?  #############\n",
    "\n",
    "\"\"\"\n",
    "Column options:\n",
    "title text \n",
    "abstract text \n",
    "title + abstract text\n",
    "    \n",
    "\"\"\"\n",
    "     \n",
    "column_name = \"\"\n"
   ]
  },
  {
   "cell_type": "code",
   "execution_count": 1,
   "metadata": {},
   "outputs": [],
   "source": [
    "# Insert your code here\n"
   ]
  },
  {
   "cell_type": "markdown",
   "metadata": {},
   "source": [
    "# Exercise 2 (Regular)"
   ]
  },
  {
   "cell_type": "markdown",
   "metadata": {},
   "source": [
    "## Ex 2-1. Model Fitting"
   ]
  },
  {
   "cell_type": "markdown",
   "metadata": {},
   "source": [
    "* Create a function named \"fit_model\" that conducts model fitting on input data.  \n",
    "* This function should include three parameters: X, y, modelname.\n",
    "* This function should contain the options to choose any of the following ML algorithms:  \n",
    "  - Decision Tree\n",
    "  - Logistic Regression  \n",
    "  - Support Vector Machines  \n",
    "  - Random Forest    \n",
    "* Note that the function is required to include a comment at the top to briefly describes what your code does."
   ]
  },
  {
   "cell_type": "code",
   "execution_count": 3,
   "metadata": {},
   "outputs": [],
   "source": [
    "# Insert your code here\n",
    "\n"
   ]
  },
  {
   "cell_type": "markdown",
   "metadata": {},
   "source": [
    "## Ex 2-2. Performance Evaluation"
   ]
  },
  {
   "cell_type": "markdown",
   "metadata": {},
   "source": [
    "* Create a function named 'evaluate_model' that produces confusion matrix.  \n",
    "* This function should require two parameters that take predicted labels and actual labels.  \n",
    "* Note that the function is required to include a comment at the top to briefly describes what your code does."
   ]
  },
  {
   "cell_type": "code",
   "execution_count": 4,
   "metadata": {},
   "outputs": [],
   "source": [
    "# Insert your code here\n",
    "\n"
   ]
  },
  {
   "cell_type": "markdown",
   "metadata": {},
   "source": [
    "# Exercise 3 (Regular)"
   ]
  },
  {
   "cell_type": "markdown",
   "metadata": {},
   "source": [
    "## Ex 3-1. Create a Main Function"
   ]
  },
  {
   "cell_type": "markdown",
   "metadata": {},
   "source": [
    "* Create a function named \"main_function\" that automatically conducts the entire process from loading and transforming data to model performance evaluation. \n",
    "* For data splitting, set the random_state parameter to a specific numeber (e.g., random_state=42) so that the grader can replicate the same data when running your code.  \n",
    "* Before fitting a ML model, you are required to transform textual data into numerical representations.   \n",
    "* You may use one of the vectorization schema shown in class, such as TF-IDF, Bag-of-Words, etc. or try out other strategies if you want to.   \n",
    "* When running this function, output corresponding to each step should be displayed to keep track of the process.  \n",
    "* You may refer a sample output file (\"output_title_LR.txt\") provided for Exercise 4.  \n",
    "* Note that the function is required to include a comment at the top to briefly describes what your code does. \n"
   ]
  },
  {
   "cell_type": "code",
   "execution_count": 5,
   "metadata": {},
   "outputs": [],
   "source": [
    "# Insert your code here\n",
    "\n"
   ]
  },
  {
   "cell_type": "markdown",
   "metadata": {},
   "source": [
    "## Ex 3-2. Run the Main Function"
   ]
  },
  {
   "cell_type": "markdown",
   "metadata": {},
   "source": [
    "* Call the main function with the following requirements:  \n",
    "  - Column name: title  \n",
    "  - Model type: Logistic Regression  "
   ]
  },
  {
   "cell_type": "code",
   "execution_count": null,
   "metadata": {},
   "outputs": [],
   "source": [
    "######################################################\n",
    "#############  1. Set Parameter Values  ##############\n",
    "######################################################\n",
    "\n",
    "    \n",
    "#############  1-1. Input file name  #############\n",
    "\n",
    "input_filename = \" \"\n",
    "    \n",
    "    \n",
    "#############  1-2. Which column to choose?  #############\n",
    "\n",
    "\"\"\"\n",
    "Column options:\n",
    "title text \n",
    "abstract text \n",
    "title + abstract text   \n",
    "\"\"\"\n",
    "     \n",
    "column_name = \" \"         \n",
    "\n",
    "\n",
    "#############  1-3. Which ML model to use?  #############\n",
    "    \n",
    "\"\"\"\n",
    "Model options:\n",
    "    \n",
    "Decision Tree\n",
    "Logisitic regression\n",
    "Support Vector Machines\n",
    "Random Forest\n",
    "\"\"\"\n",
    "    \n",
    "model_type = ''                                            \n",
    "                                                   \n",
    "                                               "
   ]
  },
  {
   "cell_type": "code",
   "execution_count": null,
   "metadata": {
    "scrolled": false
   },
   "outputs": [],
   "source": [
    "%%time\n",
    "\n",
    "if __name__== \"__main__\":\n",
    "         \n",
    "    main_function()\n",
    "    "
   ]
  },
  {
   "cell_type": "markdown",
   "metadata": {},
   "source": [
    "## Ex 3-3. Performance Evaluation Scores"
   ]
  },
  {
   "cell_type": "markdown",
   "metadata": {},
   "source": [
    "* Interpret the results from the confusion matrix generated in Ex3-2. Provide the following 4 evaluation scores for our target class (both RCT and Non-RCT):  \n",
    "  - Accuracy  \n",
    "  - Precision  \n",
    "  - Recall  \n",
    "  - F1  \n",
    "* Demonstrate how these scores for each class are calculated with mathmatical equation.   \n",
    "* Use values in the confusion matrix such as true positive to explain how the evaluation scores are created.\n",
    "* The numbers used in the equation should match the ones in the confusion matrix generated by the main function."
   ]
  },
  {
   "cell_type": "markdown",
   "metadata": {},
   "source": [
    "#### Provide evaluation scores for each class.\n",
    "\n",
    "1. Class 1 (RCT) \n",
    "- Accuracy = \n",
    "- Precision = \n",
    "- Recall = \n",
    "- F1 = \n",
    "\n",
    "2. Class 0 (Non-RCT)\n",
    "- Accuracy = \n",
    "- Precision = \n",
    "- Recall = \n",
    "- F1 = "
   ]
  },
  {
   "cell_type": "markdown",
   "metadata": {},
   "source": [
    "#### Show how each score is calculated with numbers in confusion matrix.\n",
    "\n",
    "1. Class 1 (RCT)  \n",
    "- Accuracy = ()/() = \n",
    "- Precision = ()/() = \n",
    "- Recall = ()/() = \n",
    "- F1 =  = ()/() = \n",
    "\n",
    "2. Class 0 (Non-RCT)\n",
    "- Accuracy = ()/() = \n",
    "- Precision = ()/() = \n",
    "- Recall = ()/() = \n",
    "- F1 = ()/() = "
   ]
  },
  {
   "cell_type": "markdown",
   "metadata": {
    "id": "jtuA57AQwTjA"
   },
   "source": [
    "# Exercise 4 (Challenge)"
   ]
  },
  {
   "cell_type": "markdown",
   "metadata": {},
   "source": [
    "* Create a file named \"modules_updated.py\" that includes all the functions you created for previous exercises.  \n",
    "* Revise the main_function() so that it also writes the output of each step into a separate file named like output_column_model.txt.  \n",
    "* The output in the file should look somthing like the one in the sample file provided (\"output_title_LR.txt\").   \n",
    "* After running the code, the same output is expected to be shown in both the Jupyter Notebook and an output file."
   ]
  },
  {
   "cell_type": "code",
   "execution_count": null,
   "metadata": {},
   "outputs": [],
   "source": [
    "from modules_updated import *"
   ]
  },
  {
   "cell_type": "markdown",
   "metadata": {},
   "source": [
    "## Run main function"
   ]
  },
  {
   "cell_type": "code",
   "execution_count": null,
   "metadata": {},
   "outputs": [],
   "source": [
    "######################################################\n",
    "#############  1. Set Parameter Values  ##############\n",
    "######################################################\n",
    "\n",
    "    \n",
    "#############  1-1. Input file name  #############\n",
    "\n",
    "input_filename = \"\"\n",
    "    \n",
    "    \n",
    "#############  1-2. Which column to choose?  #############\n",
    "\n",
    "\"\"\"\n",
    "Column options:\n",
    "title text \n",
    "abstract text \n",
    "title + abstract text\n",
    "    \n",
    "\"\"\"\n",
    "     \n",
    "column_name = \"\"         \n",
    "\n",
    "\n",
    "#############  1-3. Which ML model to use?  #############\n",
    "    \n",
    "\"\"\"\n",
    "Model options:\n",
    "    \n",
    "Decision Tree\n",
    "Logisitic regression\n",
    "Support Vector Machines\n",
    "Random Forest\n",
    "\n",
    "\"\"\"\n",
    "    \n",
    "model_type = \"\"                                            \n",
    "                                                   "
   ]
  },
  {
   "cell_type": "code",
   "execution_count": null,
   "metadata": {
    "id": "pYt_qbIcrF-a",
    "scrolled": false
   },
   "outputs": [],
   "source": [
    "%%time\n",
    "\n",
    "if __name__== \"__main__\":\n",
    "\n",
    "            \n",
    "    main_function()\n",
    "    \n",
    "        \n",
    "    print(\"\\n************** Processing Completed **************\\n\")\n",
    "    "
   ]
  }
 ],
 "metadata": {
  "accelerator": "GPU",
  "colab": {
   "provenance": []
  },
  "gpuClass": "standard",
  "kernelspec": {
   "display_name": "conda_python3",
   "language": "python",
   "name": "conda_python3"
  },
  "language_info": {
   "codemirror_mode": {
    "name": "ipython",
    "version": 3
   },
   "file_extension": ".py",
   "mimetype": "text/x-python",
   "name": "python",
   "nbconvert_exporter": "python",
   "pygments_lexer": "ipython3",
   "version": "3.10.13"
  }
 },
 "nbformat": 4,
 "nbformat_minor": 1
}
