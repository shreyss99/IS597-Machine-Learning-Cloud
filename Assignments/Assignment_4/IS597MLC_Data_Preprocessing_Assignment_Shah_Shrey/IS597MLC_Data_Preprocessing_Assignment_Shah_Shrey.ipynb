{
 "cells": [
  {
   "cell_type": "markdown",
   "metadata": {
    "id": "2zUom9hAsSIv"
   },
   "source": [
    "# IS597MLC: Data Pre-processing Coding Assignment"
   ]
  },
  {
   "cell_type": "markdown",
   "metadata": {},
   "source": [
    "### Student Name:   Shrey Shah\n",
    "### Net ID:  sshah023"
   ]
  },
  {
   "cell_type": "markdown",
   "metadata": {
    "id": "4J32GZ_mscTd"
   },
   "source": [
    "# Instruction"
   ]
  },
  {
   "cell_type": "markdown",
   "metadata": {
    "id": "YETKCdGWscWQ"
   },
   "source": [
    "#### * This assignment consists of 4 exercises. Each exercise contains several tasks shown in bold. You are required to write your code in a cell with a comment \"Insert your code here\" included. You may add more cells if needed. The expected output is displayed for each exercise so that you can compare it with the one from your own code.   \n",
    "\n",
    "#### * Note: Do not change exercise numbers or instruction comments. Also, do not remove or modify the cells that include image of expected outputs. To see all the images embeded in your notebook, you should create a folder named 'Image' in the same directory where your notebook and dataset files are located and upload the files in the Image folder provided by the instructor.  \n",
    "\n",
    "#### * Remember that most of the tasks for each exercise can be solved in one or a few lines of code. You do not need to write a complex code to get expected results. Also, be aware that there is no one absolute solution to answer a question, i.e., tasks can have multiple correct solution methods you can choose from. You may want to refer to the codes used for class activity demonstration.\n",
    "\n",
    "#### * Once you have completed all exercises, change the file name by adding your surname and given name at the end of file name (e.g., IS597MLC_Preprocessing_Data_Assignment_Kim_Jenna.ipynb).  \n",
    "\n",
    "#### * You are required to use a AWS Academy Learner Lab for this assignment. Please see detailed instruction for providng an evidence document at the bottom of this notebook. \n",
    "\n",
    "#### * Make absolutely sure that all the codes in the updated Jupyter Notebook run properly before submission. If a grader encounters an error while attempting to run your codes, points will be deducted even if they look correct. If you are sure your files are ready to go, upload a zipped file to UIUC Canvas assignment section. Your submitted zipped file should include the following items:  \n",
    "- Updated Jupyter Notebook with your codes included \n",
    "- dataset  \n",
    "- Image folder containing screenshots provided by instructors \n",
    "- a screenshot of your notebook showing the AWS SageMaker URL at the top"
   ]
  },
  {
   "cell_type": "markdown",
   "metadata": {
    "id": "KjDQGl91wA78"
   },
   "source": [
    "# Set up"
   ]
  },
  {
   "cell_type": "markdown",
   "metadata": {
    "id": "saBSw8d6s27x"
   },
   "source": [
    "### Libraries"
   ]
  },
  {
   "cell_type": "code",
   "execution_count": 218,
   "metadata": {
    "id": "7OIb10PFrF-U"
   },
   "outputs": [],
   "source": [
    "#### Check pre-installed Python packages\n",
    "#!pip list"
   ]
  },
  {
   "cell_type": "code",
   "execution_count": 219,
   "metadata": {
    "colab": {
     "base_uri": "https://localhost:8080/"
    },
    "id": "iCQmTfQRrF-S",
    "outputId": "f8ad500a-dd97-463d-aede-91685b4793df"
   },
   "outputs": [
    {
     "name": "stderr",
     "output_type": "stream",
     "text": [
      "[nltk_data] Downloading package punkt to /home/ec2-user/nltk_data...\n",
      "[nltk_data]   Package punkt is already up-to-date!\n",
      "[nltk_data] Downloading package stopwords to\n",
      "[nltk_data]     /home/ec2-user/nltk_data...\n",
      "[nltk_data]   Package stopwords is already up-to-date!\n",
      "[nltk_data] Downloading package wordnet to /home/ec2-user/nltk_data...\n",
      "[nltk_data]   Package wordnet is already up-to-date!\n",
      "[nltk_data] Downloading package omw-1.4 to /home/ec2-user/nltk_data...\n",
      "[nltk_data]   Package omw-1.4 is already up-to-date!\n"
     ]
    }
   ],
   "source": [
    "import time\n",
    "from datetime import timedelta\n",
    "import pandas as pd\n",
    "import nltk\n",
    "from nltk.corpus import stopwords\n",
    "nltk.download('punkt')\n",
    "nltk.download('stopwords')\n",
    "nltk.download('wordnet')\n",
    "nltk.download('omw-1.4')\n",
    "from nltk.stem import PorterStemmer, WordNetLemmatizer\n",
    "from sklearn.model_selection import train_test_split"
   ]
  },
  {
   "cell_type": "code",
   "execution_count": 220,
   "metadata": {
    "id": "_KOK4H0ag0yS"
   },
   "outputs": [],
   "source": [
    "#### Check memory usage\n",
    "#!free -h\n",
    "\n",
    "#### clear occupied memory\n",
    "#import gc\n",
    "#gc.collect()\n",
    "\n",
    "#### Check memory usage again\n",
    "#!free -h"
   ]
  },
  {
   "cell_type": "markdown",
   "metadata": {
    "id": "Iq-0Xq3m7991"
   },
   "source": [
    "### Data set"
   ]
  },
  {
   "cell_type": "markdown",
   "metadata": {
    "id": "dLPLr9KR8Dom"
   },
   "source": [
    "#### Use the data set provided by the instructor: \"pubmed_data.txt\""
   ]
  },
  {
   "cell_type": "markdown",
   "metadata": {
    "id": "_BMtd_QustFm"
   },
   "source": [
    "# Exercise 1 (Regular)"
   ]
  },
  {
   "cell_type": "markdown",
   "metadata": {
    "id": "_ljLeDQDKurM"
   },
   "source": [
    "## Ex 1-1. Load data "
   ]
  },
  {
   "cell_type": "code",
   "execution_count": 221,
   "metadata": {
    "id": "fY_puVuCLtBf"
   },
   "outputs": [],
   "source": [
    "#### Load data from dataset\n",
    "\n",
    "# Insert your code here\n",
    "\n",
    "in_filename = \"pubmed_data.txt\"\n",
    "pubmed_data = pd.read_csv(in_filename, sep=\"\\t\")"
   ]
  },
  {
   "cell_type": "code",
   "execution_count": 222,
   "metadata": {},
   "outputs": [
    {
     "name": "stdout",
     "output_type": "stream",
     "text": [
      "\n",
      "Summary of data\n",
      "\n",
      "<class 'pandas.core.frame.DataFrame'>\n",
      "RangeIndex: 25000 entries, 0 to 24999\n",
      "Data columns (total 7 columns):\n",
      " #   Column         Non-Null Count  Dtype  \n",
      "---  ------         --------------  -----  \n",
      " 0   pmid           25000 non-null  int64  \n",
      " 1   pubdate        24351 non-null  float64\n",
      " 2   language       25000 non-null  object \n",
      " 3   title          24918 non-null  object \n",
      " 4   abstract       22618 non-null  object \n",
      " 5   otherabstract  4 non-null      object \n",
      " 6   pubtype        25000 non-null  object \n",
      "dtypes: float64(1), int64(1), object(5)\n",
      "memory usage: 1.3+ MB\n"
     ]
    }
   ],
   "source": [
    "##### Check the info of the dataframe\n",
    "\n",
    "# Insert your code here\n",
    "\n",
    "print(\"\\nSummary of data\\n\")\n",
    "pubmed_data.info()"
   ]
  },
  {
   "cell_type": "markdown",
   "metadata": {},
   "source": [
    "### The output should look like this: \n",
    "\n",
    "<img src=\"Image/DataPreprocessing-Assignment-Ex1-1.png\" width=400, height=300, alt=\"Alternative text\"/>"
   ]
  },
  {
   "cell_type": "code",
   "execution_count": 223,
   "metadata": {
    "colab": {
     "base_uri": "https://localhost:8080/"
    },
    "id": "UKcPvRlxL_Jk",
    "outputId": "4b0b3ba4-e3ba-475a-d4d6-30c242e89f4b"
   },
   "outputs": [
    {
     "name": "stdout",
     "output_type": "stream",
     "text": [
      "No of rows:  25000\n",
      "No of columns:  7\n",
      "\n",
      "\n",
      "Data View: Last 3 Instances\n"
     ]
    },
    {
     "data": {
      "text/html": [
       "<div>\n",
       "<style scoped>\n",
       "    .dataframe tbody tr th:only-of-type {\n",
       "        vertical-align: middle;\n",
       "    }\n",
       "\n",
       "    .dataframe tbody tr th {\n",
       "        vertical-align: top;\n",
       "    }\n",
       "\n",
       "    .dataframe thead th {\n",
       "        text-align: right;\n",
       "    }\n",
       "</style>\n",
       "<table border=\"1\" class=\"dataframe\">\n",
       "  <thead>\n",
       "    <tr style=\"text-align: right;\">\n",
       "      <th></th>\n",
       "      <th>pmid</th>\n",
       "      <th>pubdate</th>\n",
       "      <th>language</th>\n",
       "      <th>title</th>\n",
       "      <th>abstract</th>\n",
       "      <th>otherabstract</th>\n",
       "      <th>pubtype</th>\n",
       "    </tr>\n",
       "  </thead>\n",
       "  <tbody>\n",
       "    <tr>\n",
       "      <th>24997</th>\n",
       "      <td>31152989</td>\n",
       "      <td>2019.0</td>\n",
       "      <td>eng</td>\n",
       "      <td>Synthesis and antiproliferative activity of cu...</td>\n",
       "      <td>Culicinin D is a 10 amino acid peptaibol conta...</td>\n",
       "      <td>NaN</td>\n",
       "      <td>Other</td>\n",
       "    </tr>\n",
       "    <tr>\n",
       "      <th>24998</th>\n",
       "      <td>31152988</td>\n",
       "      <td>2019.0</td>\n",
       "      <td>eng</td>\n",
       "      <td>Bioaccumulation of polycyclic aromatic hydroca...</td>\n",
       "      <td>Little data are available on polycyclic aromat...</td>\n",
       "      <td>NaN</td>\n",
       "      <td>Other</td>\n",
       "    </tr>\n",
       "    <tr>\n",
       "      <th>24999</th>\n",
       "      <td>31152973</td>\n",
       "      <td>2019.0</td>\n",
       "      <td>eng</td>\n",
       "      <td>NaN</td>\n",
       "      <td>A total of 3 men and 7 women (age range 22 to ...</td>\n",
       "      <td>NaN</td>\n",
       "      <td>Other</td>\n",
       "    </tr>\n",
       "  </tbody>\n",
       "</table>\n",
       "</div>"
      ],
      "text/plain": [
       "           pmid  pubdate language  \\\n",
       "24997  31152989   2019.0      eng   \n",
       "24998  31152988   2019.0      eng   \n",
       "24999  31152973   2019.0      eng   \n",
       "\n",
       "                                                   title  \\\n",
       "24997  Synthesis and antiproliferative activity of cu...   \n",
       "24998  Bioaccumulation of polycyclic aromatic hydroca...   \n",
       "24999                                                NaN   \n",
       "\n",
       "                                                abstract otherabstract pubtype  \n",
       "24997  Culicinin D is a 10 amino acid peptaibol conta...           NaN   Other  \n",
       "24998  Little data are available on polycyclic aromat...           NaN   Other  \n",
       "24999  A total of 3 men and 7 women (age range 22 to ...           NaN   Other  "
      ]
     },
     "execution_count": 223,
     "metadata": {},
     "output_type": "execute_result"
    }
   ],
   "source": [
    "##### Check number of rows and columns\n",
    "\n",
    "# Insert your code here\n",
    "print(\"No of rows: \", pubmed_data.shape[0])\n",
    "print(\"No of columns: \", pubmed_data.shape[1])\n",
    "\n",
    "print(\"\\n\")\n",
    "##### Check the last 3 instances (rows)\n",
    "\n",
    "# Insert your code here\n",
    "print(\"Data View: Last 3 Instances\")\n",
    "pubmed_data.tail(3)"
   ]
  },
  {
   "cell_type": "markdown",
   "metadata": {},
   "source": [
    "### The output should look like this: \n",
    "\n",
    "<img src=\"Image/DataPreprocessing-Assignment-Ex1-2.png\" width=900, height=800, alt=\"Alternative text\"/>"
   ]
  },
  {
   "cell_type": "markdown",
   "metadata": {
    "id": "2Ey6qCYZOeGb"
   },
   "source": [
    "## Ex 1-2. Cleaning data"
   ]
  },
  {
   "cell_type": "code",
   "execution_count": 224,
   "metadata": {
    "colab": {
     "base_uri": "https://localhost:8080/",
     "height": 424
    },
    "id": "0P5AM8rSM5CT",
    "outputId": "2291f478-8fbc-4da0-d3aa-da5d6e0f6808"
   },
   "outputs": [
    {
     "data": {
      "text/html": [
       "<div>\n",
       "<style scoped>\n",
       "    .dataframe tbody tr th:only-of-type {\n",
       "        vertical-align: middle;\n",
       "    }\n",
       "\n",
       "    .dataframe tbody tr th {\n",
       "        vertical-align: top;\n",
       "    }\n",
       "\n",
       "    .dataframe thead th {\n",
       "        text-align: right;\n",
       "    }\n",
       "</style>\n",
       "<table border=\"1\" class=\"dataframe\">\n",
       "  <thead>\n",
       "    <tr style=\"text-align: right;\">\n",
       "      <th></th>\n",
       "      <th>pmid</th>\n",
       "      <th>title</th>\n",
       "      <th>abstract</th>\n",
       "      <th>pubtype</th>\n",
       "    </tr>\n",
       "  </thead>\n",
       "  <tbody>\n",
       "    <tr>\n",
       "      <th>0</th>\n",
       "      <td>29650023</td>\n",
       "      <td>Sustained impact of energy-dense TV and online...</td>\n",
       "      <td>Policies restricting children's exposure to un...</td>\n",
       "      <td>RCT</td>\n",
       "    </tr>\n",
       "    <tr>\n",
       "      <th>1</th>\n",
       "      <td>29649996</td>\n",
       "      <td>The effects of synbiotic supplementation on ho...</td>\n",
       "      <td>To our knowledge, no reports are available ind...</td>\n",
       "      <td>RCT</td>\n",
       "    </tr>\n",
       "    <tr>\n",
       "      <th>2</th>\n",
       "      <td>29649669</td>\n",
       "      <td>360° virtual reality video for the acquisition...</td>\n",
       "      <td>360° virtual reality (VR) video is an exciting...</td>\n",
       "      <td>RCT</td>\n",
       "    </tr>\n",
       "    <tr>\n",
       "      <th>3</th>\n",
       "      <td>29649082</td>\n",
       "      <td>Transcutaneous Electrical Nerve Stimulation Re...</td>\n",
       "      <td>Individuals receiving radiation for head and n...</td>\n",
       "      <td>RCT</td>\n",
       "    </tr>\n",
       "    <tr>\n",
       "      <th>4</th>\n",
       "      <td>29648860</td>\n",
       "      <td>Motivation and readiness for tobacco cessation...</td>\n",
       "      <td>Despite considerable health risks due to lower...</td>\n",
       "      <td>RCT</td>\n",
       "    </tr>\n",
       "    <tr>\n",
       "      <th>...</th>\n",
       "      <td>...</td>\n",
       "      <td>...</td>\n",
       "      <td>...</td>\n",
       "      <td>...</td>\n",
       "    </tr>\n",
       "    <tr>\n",
       "      <th>24995</th>\n",
       "      <td>31153048</td>\n",
       "      <td>Decreasing waiting time for treatment before a...</td>\n",
       "      <td>In 2015, Norway implemented cancer patient pat...</td>\n",
       "      <td>Other</td>\n",
       "    </tr>\n",
       "    <tr>\n",
       "      <th>24996</th>\n",
       "      <td>31153036</td>\n",
       "      <td>Hypomethylating agents in the treatment of acu...</td>\n",
       "      <td>The hypomethylating agents (HMAs), decitabine ...</td>\n",
       "      <td>Other</td>\n",
       "    </tr>\n",
       "    <tr>\n",
       "      <th>24997</th>\n",
       "      <td>31152989</td>\n",
       "      <td>Synthesis and antiproliferative activity of cu...</td>\n",
       "      <td>Culicinin D is a 10 amino acid peptaibol conta...</td>\n",
       "      <td>Other</td>\n",
       "    </tr>\n",
       "    <tr>\n",
       "      <th>24998</th>\n",
       "      <td>31152988</td>\n",
       "      <td>Bioaccumulation of polycyclic aromatic hydroca...</td>\n",
       "      <td>Little data are available on polycyclic aromat...</td>\n",
       "      <td>Other</td>\n",
       "    </tr>\n",
       "    <tr>\n",
       "      <th>24999</th>\n",
       "      <td>31152973</td>\n",
       "      <td>NaN</td>\n",
       "      <td>A total of 3 men and 7 women (age range 22 to ...</td>\n",
       "      <td>Other</td>\n",
       "    </tr>\n",
       "  </tbody>\n",
       "</table>\n",
       "<p>25000 rows × 4 columns</p>\n",
       "</div>"
      ],
      "text/plain": [
       "           pmid                                              title  \\\n",
       "0      29650023  Sustained impact of energy-dense TV and online...   \n",
       "1      29649996  The effects of synbiotic supplementation on ho...   \n",
       "2      29649669  360° virtual reality video for the acquisition...   \n",
       "3      29649082  Transcutaneous Electrical Nerve Stimulation Re...   \n",
       "4      29648860  Motivation and readiness for tobacco cessation...   \n",
       "...         ...                                                ...   \n",
       "24995  31153048  Decreasing waiting time for treatment before a...   \n",
       "24996  31153036  Hypomethylating agents in the treatment of acu...   \n",
       "24997  31152989  Synthesis and antiproliferative activity of cu...   \n",
       "24998  31152988  Bioaccumulation of polycyclic aromatic hydroca...   \n",
       "24999  31152973                                                NaN   \n",
       "\n",
       "                                                abstract pubtype  \n",
       "0      Policies restricting children's exposure to un...     RCT  \n",
       "1      To our knowledge, no reports are available ind...     RCT  \n",
       "2      360° virtual reality (VR) video is an exciting...     RCT  \n",
       "3      Individuals receiving radiation for head and n...     RCT  \n",
       "4      Despite considerable health risks due to lower...     RCT  \n",
       "...                                                  ...     ...  \n",
       "24995  In 2015, Norway implemented cancer patient pat...   Other  \n",
       "24996  The hypomethylating agents (HMAs), decitabine ...   Other  \n",
       "24997  Culicinin D is a 10 amino acid peptaibol conta...   Other  \n",
       "24998  Little data are available on polycyclic aromat...   Other  \n",
       "24999  A total of 3 men and 7 women (age range 22 to ...   Other  \n",
       "\n",
       "[25000 rows x 4 columns]"
      ]
     },
     "execution_count": 224,
     "metadata": {},
     "output_type": "execute_result"
    }
   ],
   "source": [
    "#### Select data needed for processing\n",
    "#### Select the following columns: pmid, title, abstract, and pubtype\n",
    "\n",
    "# Insert your code here\n",
    "pubmed_data_filtered = pubmed_data[['pmid', 'title', 'abstract', 'pubtype']]\n",
    "pubmed_data_filtered"
   ]
  },
  {
   "cell_type": "code",
   "execution_count": 225,
   "metadata": {
    "id": "IRZV7uDVM5Mv"
   },
   "outputs": [],
   "source": [
    "#### Make sure that text data in selected columns are strings\n",
    "##### Trim unnecessary spaces for strings in 'title' & 'abstract' columns\n",
    "\n",
    "# Insert your code here\n",
    "pubmed_data_filtered.loc[:, 'title'] = pubmed_data_filtered.loc[:, 'title'].astype(str).str.strip()\n",
    "pubmed_data_filtered.loc[:, 'abstract'] = pubmed_data_filtered.loc[:, 'abstract'].astype(str).str.strip()"
   ]
  },
  {
   "cell_type": "code",
   "execution_count": 226,
   "metadata": {},
   "outputs": [
    {
     "data": {
      "text/html": [
       "<div>\n",
       "<style scoped>\n",
       "    .dataframe tbody tr th:only-of-type {\n",
       "        vertical-align: middle;\n",
       "    }\n",
       "\n",
       "    .dataframe tbody tr th {\n",
       "        vertical-align: top;\n",
       "    }\n",
       "\n",
       "    .dataframe thead th {\n",
       "        text-align: right;\n",
       "    }\n",
       "</style>\n",
       "<table border=\"1\" class=\"dataframe\">\n",
       "  <thead>\n",
       "    <tr style=\"text-align: right;\">\n",
       "      <th></th>\n",
       "      <th>pmid</th>\n",
       "      <th>title</th>\n",
       "      <th>abstract</th>\n",
       "      <th>pubtype</th>\n",
       "    </tr>\n",
       "  </thead>\n",
       "  <tbody>\n",
       "    <tr>\n",
       "      <th>0</th>\n",
       "      <td>29650023</td>\n",
       "      <td>Sustained impact of energy-dense TV and online...</td>\n",
       "      <td>Policies restricting children's exposure to un...</td>\n",
       "      <td>RCT</td>\n",
       "    </tr>\n",
       "    <tr>\n",
       "      <th>1</th>\n",
       "      <td>29649996</td>\n",
       "      <td>The effects of synbiotic supplementation on ho...</td>\n",
       "      <td>To our knowledge, no reports are available ind...</td>\n",
       "      <td>RCT</td>\n",
       "    </tr>\n",
       "    <tr>\n",
       "      <th>2</th>\n",
       "      <td>29649669</td>\n",
       "      <td>360° virtual reality video for the acquisition...</td>\n",
       "      <td>360° virtual reality (VR) video is an exciting...</td>\n",
       "      <td>RCT</td>\n",
       "    </tr>\n",
       "    <tr>\n",
       "      <th>3</th>\n",
       "      <td>29649082</td>\n",
       "      <td>Transcutaneous Electrical Nerve Stimulation Re...</td>\n",
       "      <td>Individuals receiving radiation for head and n...</td>\n",
       "      <td>RCT</td>\n",
       "    </tr>\n",
       "    <tr>\n",
       "      <th>4</th>\n",
       "      <td>29648860</td>\n",
       "      <td>Motivation and readiness for tobacco cessation...</td>\n",
       "      <td>Despite considerable health risks due to lower...</td>\n",
       "      <td>RCT</td>\n",
       "    </tr>\n",
       "  </tbody>\n",
       "</table>\n",
       "</div>"
      ],
      "text/plain": [
       "       pmid                                              title  \\\n",
       "0  29650023  Sustained impact of energy-dense TV and online...   \n",
       "1  29649996  The effects of synbiotic supplementation on ho...   \n",
       "2  29649669  360° virtual reality video for the acquisition...   \n",
       "3  29649082  Transcutaneous Electrical Nerve Stimulation Re...   \n",
       "4  29648860  Motivation and readiness for tobacco cessation...   \n",
       "\n",
       "                                            abstract pubtype  \n",
       "0  Policies restricting children's exposure to un...     RCT  \n",
       "1  To our knowledge, no reports are available ind...     RCT  \n",
       "2  360° virtual reality (VR) video is an exciting...     RCT  \n",
       "3  Individuals receiving radiation for head and n...     RCT  \n",
       "4  Despite considerable health risks due to lower...     RCT  "
      ]
     },
     "execution_count": 226,
     "metadata": {},
     "output_type": "execute_result"
    }
   ],
   "source": [
    "pubmed_data_filtered.head()"
   ]
  },
  {
   "cell_type": "code",
   "execution_count": 227,
   "metadata": {},
   "outputs": [
    {
     "data": {
      "text/plain": [
       "array(['RCT', 'Other'], dtype=object)"
      ]
     },
     "execution_count": 227,
     "metadata": {},
     "output_type": "execute_result"
    }
   ],
   "source": [
    "pubmed_data_filtered['pubtype'].unique()"
   ]
  },
  {
   "cell_type": "code",
   "execution_count": 228,
   "metadata": {
    "id": "puizmSxcM5FP"
   },
   "outputs": [
    {
     "data": {
      "text/html": [
       "<div>\n",
       "<style scoped>\n",
       "    .dataframe tbody tr th:only-of-type {\n",
       "        vertical-align: middle;\n",
       "    }\n",
       "\n",
       "    .dataframe tbody tr th {\n",
       "        vertical-align: top;\n",
       "    }\n",
       "\n",
       "    .dataframe thead th {\n",
       "        text-align: right;\n",
       "    }\n",
       "</style>\n",
       "<table border=\"1\" class=\"dataframe\">\n",
       "  <thead>\n",
       "    <tr style=\"text-align: right;\">\n",
       "      <th></th>\n",
       "      <th>pmid</th>\n",
       "      <th>title</th>\n",
       "      <th>abstract</th>\n",
       "      <th>pubtype</th>\n",
       "    </tr>\n",
       "  </thead>\n",
       "  <tbody>\n",
       "    <tr>\n",
       "      <th>0</th>\n",
       "      <td>29650023</td>\n",
       "      <td>Sustained impact of energy-dense TV and online...</td>\n",
       "      <td>Policies restricting children's exposure to un...</td>\n",
       "      <td>1</td>\n",
       "    </tr>\n",
       "    <tr>\n",
       "      <th>1</th>\n",
       "      <td>29649996</td>\n",
       "      <td>The effects of synbiotic supplementation on ho...</td>\n",
       "      <td>To our knowledge, no reports are available ind...</td>\n",
       "      <td>1</td>\n",
       "    </tr>\n",
       "    <tr>\n",
       "      <th>2</th>\n",
       "      <td>29649669</td>\n",
       "      <td>360° virtual reality video for the acquisition...</td>\n",
       "      <td>360° virtual reality (VR) video is an exciting...</td>\n",
       "      <td>1</td>\n",
       "    </tr>\n",
       "    <tr>\n",
       "      <th>3</th>\n",
       "      <td>29649082</td>\n",
       "      <td>Transcutaneous Electrical Nerve Stimulation Re...</td>\n",
       "      <td>Individuals receiving radiation for head and n...</td>\n",
       "      <td>1</td>\n",
       "    </tr>\n",
       "    <tr>\n",
       "      <th>4</th>\n",
       "      <td>29648860</td>\n",
       "      <td>Motivation and readiness for tobacco cessation...</td>\n",
       "      <td>Despite considerable health risks due to lower...</td>\n",
       "      <td>1</td>\n",
       "    </tr>\n",
       "  </tbody>\n",
       "</table>\n",
       "</div>"
      ],
      "text/plain": [
       "       pmid                                              title  \\\n",
       "0  29650023  Sustained impact of energy-dense TV and online...   \n",
       "1  29649996  The effects of synbiotic supplementation on ho...   \n",
       "2  29649669  360° virtual reality video for the acquisition...   \n",
       "3  29649082  Transcutaneous Electrical Nerve Stimulation Re...   \n",
       "4  29648860  Motivation and readiness for tobacco cessation...   \n",
       "\n",
       "                                            abstract pubtype  \n",
       "0  Policies restricting children's exposure to un...       1  \n",
       "1  To our knowledge, no reports are available ind...       1  \n",
       "2  360° virtual reality (VR) video is an exciting...       1  \n",
       "3  Individuals receiving radiation for head and n...       1  \n",
       "4  Despite considerable health risks due to lower...       1  "
      ]
     },
     "execution_count": 228,
     "metadata": {},
     "output_type": "execute_result"
    }
   ],
   "source": [
    "#### Convert label text to numeric values\n",
    "\n",
    "# Insert your code here\n",
    "pubmed_data_filtered.loc[:, 'pubtype'] = pubmed_data_filtered.loc[:, 'pubtype'].apply(lambda x: 1 if x == 'RCT' else 0)\n",
    "\n",
    "pubmed_data_filtered.head()"
   ]
  },
  {
   "cell_type": "code",
   "execution_count": 229,
   "metadata": {
    "colab": {
     "base_uri": "https://localhost:8080/"
    },
    "id": "mrD-kHDqM5PX",
    "outputId": "55cf7477-bb95-4daa-bcf1-bfac4afb3a53"
   },
   "outputs": [
    {
     "name": "stdout",
     "output_type": "stream",
     "text": [
      "Class Counts(label, row): \n",
      "\n",
      "pubtype\n",
      "0    14388\n",
      "1    10612\n",
      "Name: count, dtype: int64 \n",
      "\n",
      "Data View: First 5 Instances\n"
     ]
    },
    {
     "data": {
      "text/html": [
       "<div>\n",
       "<style scoped>\n",
       "    .dataframe tbody tr th:only-of-type {\n",
       "        vertical-align: middle;\n",
       "    }\n",
       "\n",
       "    .dataframe tbody tr th {\n",
       "        vertical-align: top;\n",
       "    }\n",
       "\n",
       "    .dataframe thead th {\n",
       "        text-align: right;\n",
       "    }\n",
       "</style>\n",
       "<table border=\"1\" class=\"dataframe\">\n",
       "  <thead>\n",
       "    <tr style=\"text-align: right;\">\n",
       "      <th></th>\n",
       "      <th>pmid</th>\n",
       "      <th>title</th>\n",
       "      <th>abstract</th>\n",
       "      <th>pubtype</th>\n",
       "    </tr>\n",
       "  </thead>\n",
       "  <tbody>\n",
       "    <tr>\n",
       "      <th>0</th>\n",
       "      <td>29650023</td>\n",
       "      <td>Sustained impact of energy-dense TV and online...</td>\n",
       "      <td>Policies restricting children's exposure to un...</td>\n",
       "      <td>1</td>\n",
       "    </tr>\n",
       "    <tr>\n",
       "      <th>1</th>\n",
       "      <td>29649996</td>\n",
       "      <td>The effects of synbiotic supplementation on ho...</td>\n",
       "      <td>To our knowledge, no reports are available ind...</td>\n",
       "      <td>1</td>\n",
       "    </tr>\n",
       "    <tr>\n",
       "      <th>2</th>\n",
       "      <td>29649669</td>\n",
       "      <td>360° virtual reality video for the acquisition...</td>\n",
       "      <td>360° virtual reality (VR) video is an exciting...</td>\n",
       "      <td>1</td>\n",
       "    </tr>\n",
       "    <tr>\n",
       "      <th>3</th>\n",
       "      <td>29649082</td>\n",
       "      <td>Transcutaneous Electrical Nerve Stimulation Re...</td>\n",
       "      <td>Individuals receiving radiation for head and n...</td>\n",
       "      <td>1</td>\n",
       "    </tr>\n",
       "    <tr>\n",
       "      <th>4</th>\n",
       "      <td>29648860</td>\n",
       "      <td>Motivation and readiness for tobacco cessation...</td>\n",
       "      <td>Despite considerable health risks due to lower...</td>\n",
       "      <td>1</td>\n",
       "    </tr>\n",
       "  </tbody>\n",
       "</table>\n",
       "</div>"
      ],
      "text/plain": [
       "       pmid                                              title  \\\n",
       "0  29650023  Sustained impact of energy-dense TV and online...   \n",
       "1  29649996  The effects of synbiotic supplementation on ho...   \n",
       "2  29649669  360° virtual reality video for the acquisition...   \n",
       "3  29649082  Transcutaneous Electrical Nerve Stimulation Re...   \n",
       "4  29648860  Motivation and readiness for tobacco cessation...   \n",
       "\n",
       "                                            abstract pubtype  \n",
       "0  Policies restricting children's exposure to un...       1  \n",
       "1  To our knowledge, no reports are available ind...       1  \n",
       "2  360° virtual reality (VR) video is an exciting...       1  \n",
       "3  Individuals receiving radiation for head and n...       1  \n",
       "4  Despite considerable health risks due to lower...       1  "
      ]
     },
     "execution_count": 229,
     "metadata": {},
     "output_type": "execute_result"
    }
   ],
   "source": [
    "#### Check label distribution of target class\n",
    "\n",
    "# Insert your code here\n",
    "print(\"Class Counts(label, row):\", \"\\n\")\n",
    "print(pubmed_data_filtered['pubtype'].value_counts(), \"\\n\")\n",
    "\n",
    "#### Check the first 5 instances\n",
    "\n",
    "# Insert your code here\n",
    "print(\"Data View: First 5 Instances\")\n",
    "pubmed_data_filtered.head(5)"
   ]
  },
  {
   "cell_type": "markdown",
   "metadata": {},
   "source": [
    "### The output should look like this: \n",
    "\n",
    "<img src=\"Image/DataPreprocessing-Assignment-Ex1-3.png\" width=700, height=600, alt=\"Alternative text\"/>"
   ]
  },
  {
   "cell_type": "markdown",
   "metadata": {
    "id": "68kRUIYUPSk2"
   },
   "source": [
    "## Ex 1-3. Remove duplicates if any"
   ]
  },
  {
   "cell_type": "code",
   "execution_count": 230,
   "metadata": {
    "id": "XJ5Xf5RoPSwl"
   },
   "outputs": [
    {
     "name": "stderr",
     "output_type": "stream",
     "text": [
      "/tmp/ipykernel_7666/1242005051.py:4: SettingWithCopyWarning: \n",
      "A value is trying to be set on a copy of a slice from a DataFrame\n",
      "\n",
      "See the caveats in the documentation: https://pandas.pydata.org/pandas-docs/stable/user_guide/indexing.html#returning-a-view-versus-a-copy\n",
      "  pubmed_data_filtered.drop_duplicates(subset=['pmid'], keep='first', inplace=True)\n"
     ]
    },
    {
     "data": {
      "text/html": [
       "<div>\n",
       "<style scoped>\n",
       "    .dataframe tbody tr th:only-of-type {\n",
       "        vertical-align: middle;\n",
       "    }\n",
       "\n",
       "    .dataframe tbody tr th {\n",
       "        vertical-align: top;\n",
       "    }\n",
       "\n",
       "    .dataframe thead th {\n",
       "        text-align: right;\n",
       "    }\n",
       "</style>\n",
       "<table border=\"1\" class=\"dataframe\">\n",
       "  <thead>\n",
       "    <tr style=\"text-align: right;\">\n",
       "      <th></th>\n",
       "      <th>pmid</th>\n",
       "      <th>title</th>\n",
       "      <th>abstract</th>\n",
       "      <th>pubtype</th>\n",
       "    </tr>\n",
       "  </thead>\n",
       "  <tbody>\n",
       "    <tr>\n",
       "      <th>0</th>\n",
       "      <td>29650023</td>\n",
       "      <td>Sustained impact of energy-dense TV and online...</td>\n",
       "      <td>Policies restricting children's exposure to un...</td>\n",
       "      <td>1</td>\n",
       "    </tr>\n",
       "    <tr>\n",
       "      <th>1</th>\n",
       "      <td>29649996</td>\n",
       "      <td>The effects of synbiotic supplementation on ho...</td>\n",
       "      <td>To our knowledge, no reports are available ind...</td>\n",
       "      <td>1</td>\n",
       "    </tr>\n",
       "    <tr>\n",
       "      <th>2</th>\n",
       "      <td>29649669</td>\n",
       "      <td>360° virtual reality video for the acquisition...</td>\n",
       "      <td>360° virtual reality (VR) video is an exciting...</td>\n",
       "      <td>1</td>\n",
       "    </tr>\n",
       "    <tr>\n",
       "      <th>3</th>\n",
       "      <td>29649082</td>\n",
       "      <td>Transcutaneous Electrical Nerve Stimulation Re...</td>\n",
       "      <td>Individuals receiving radiation for head and n...</td>\n",
       "      <td>1</td>\n",
       "    </tr>\n",
       "    <tr>\n",
       "      <th>4</th>\n",
       "      <td>29648860</td>\n",
       "      <td>Motivation and readiness for tobacco cessation...</td>\n",
       "      <td>Despite considerable health risks due to lower...</td>\n",
       "      <td>1</td>\n",
       "    </tr>\n",
       "  </tbody>\n",
       "</table>\n",
       "</div>"
      ],
      "text/plain": [
       "       pmid                                              title  \\\n",
       "0  29650023  Sustained impact of energy-dense TV and online...   \n",
       "1  29649996  The effects of synbiotic supplementation on ho...   \n",
       "2  29649669  360° virtual reality video for the acquisition...   \n",
       "3  29649082  Transcutaneous Electrical Nerve Stimulation Re...   \n",
       "4  29648860  Motivation and readiness for tobacco cessation...   \n",
       "\n",
       "                                            abstract pubtype  \n",
       "0  Policies restricting children's exposure to un...       1  \n",
       "1  To our knowledge, no reports are available ind...       1  \n",
       "2  360° virtual reality (VR) video is an exciting...       1  \n",
       "3  Individuals receiving radiation for head and n...       1  \n",
       "4  Despite considerable health risks due to lower...       1  "
      ]
     },
     "execution_count": 230,
     "metadata": {},
     "output_type": "execute_result"
    }
   ],
   "source": [
    "#### Remove duplicates using 'pmid' column and keep first occurrence\n",
    "\n",
    "# Insert your code here\n",
    "pubmed_data_filtered.drop_duplicates(subset=['pmid'], keep='first', inplace=True)\n",
    "pubmed_data_filtered.head()"
   ]
  },
  {
   "cell_type": "code",
   "execution_count": 231,
   "metadata": {
    "id": "Ff0fdIH6PSzp",
    "outputId": "48fd2499-f1dc-4f2c-ebdc-bd2c2d66316a"
   },
   "outputs": [
    {
     "name": "stdout",
     "output_type": "stream",
     "text": [
      "No of rows (After removing duplicates): 25000\n",
      "No of columns: 4\n"
     ]
    }
   ],
   "source": [
    "#### Check number of rows and columns\n",
    "\n",
    "# Insert your code here\n",
    "print(\"No of rows (After removing duplicates): {}\".format(pubmed_data_filtered.shape[0]))\n",
    "print(\"No of columns: {}\".format(pubmed_data_filtered.shape[1]))"
   ]
  },
  {
   "cell_type": "markdown",
   "metadata": {},
   "source": [
    "### The output should look like this: \n",
    "\n",
    "<img src=\"Image/DataPreprocessing-Assignment-Ex1-5.png\" width=400, height=300, alt=\"Alternative text\"/>"
   ]
  },
  {
   "cell_type": "markdown",
   "metadata": {
    "id": "gfqltfS8PjRJ"
   },
   "source": [
    "## Ex 1-4. Select text column to be used for processing"
   ]
  },
  {
   "cell_type": "code",
   "execution_count": 232,
   "metadata": {
    "id": "Qjz68MUlP1CI"
   },
   "outputs": [],
   "source": [
    "#### Create a function named \"select_text\"\n",
    "#### that provides the following 3 options \n",
    "#### for selecting text based on column name:\n",
    "#### 'title', 'abstract', and 'mix' (title + abstract)\n",
    "#### This function must have two parameters named 'df' & 'colname'\n",
    "\n",
    "# Insert your code here\n",
    "import pandas as pd\n",
    "\n",
    "def select_text(df, colname):\n",
    "    if colname == 'title':\n",
    "        return pd.DataFrame({'pmid': df['pmid'], 'title': df['title'], 'pubtype': df['pubtype']})\n",
    "    elif colname == 'abstract':\n",
    "        return pd.DataFrame({'pmid': df['pmid'], 'abstract': df['abstract'], 'pubtype': df['pubtype']})\n",
    "    elif colname == 'mix':\n",
    "        return pd.DataFrame({'pmid': df['pmid'], 'mix': df['title'] + ' ' + df['abstract'], 'pubtype': df['pubtype']})\n",
    "    else:\n",
    "        raise ValueError(\"Invalid column name. Choose from 'title', 'abstract', or 'mix'.\")"
   ]
  },
  {
   "cell_type": "code",
   "execution_count": 233,
   "metadata": {
    "id": "DjPSc2TyPjZ2",
    "outputId": "c679371d-91b0-44dd-8bd3-269130676ea3"
   },
   "outputs": [
    {
     "data": {
      "text/html": [
       "<div>\n",
       "<style scoped>\n",
       "    .dataframe tbody tr th:only-of-type {\n",
       "        vertical-align: middle;\n",
       "    }\n",
       "\n",
       "    .dataframe tbody tr th {\n",
       "        vertical-align: top;\n",
       "    }\n",
       "\n",
       "    .dataframe thead th {\n",
       "        text-align: right;\n",
       "    }\n",
       "</style>\n",
       "<table border=\"1\" class=\"dataframe\">\n",
       "  <thead>\n",
       "    <tr style=\"text-align: right;\">\n",
       "      <th></th>\n",
       "      <th>pmid</th>\n",
       "      <th>title</th>\n",
       "      <th>pubtype</th>\n",
       "    </tr>\n",
       "  </thead>\n",
       "  <tbody>\n",
       "    <tr>\n",
       "      <th>0</th>\n",
       "      <td>29650023</td>\n",
       "      <td>Sustained impact of energy-dense TV and online...</td>\n",
       "      <td>1</td>\n",
       "    </tr>\n",
       "    <tr>\n",
       "      <th>1</th>\n",
       "      <td>29649996</td>\n",
       "      <td>The effects of synbiotic supplementation on ho...</td>\n",
       "      <td>1</td>\n",
       "    </tr>\n",
       "    <tr>\n",
       "      <th>2</th>\n",
       "      <td>29649669</td>\n",
       "      <td>360° virtual reality video for the acquisition...</td>\n",
       "      <td>1</td>\n",
       "    </tr>\n",
       "    <tr>\n",
       "      <th>3</th>\n",
       "      <td>29649082</td>\n",
       "      <td>Transcutaneous Electrical Nerve Stimulation Re...</td>\n",
       "      <td>1</td>\n",
       "    </tr>\n",
       "    <tr>\n",
       "      <th>4</th>\n",
       "      <td>29648860</td>\n",
       "      <td>Motivation and readiness for tobacco cessation...</td>\n",
       "      <td>1</td>\n",
       "    </tr>\n",
       "    <tr>\n",
       "      <th>...</th>\n",
       "      <td>...</td>\n",
       "      <td>...</td>\n",
       "      <td>...</td>\n",
       "    </tr>\n",
       "    <tr>\n",
       "      <th>24995</th>\n",
       "      <td>31153048</td>\n",
       "      <td>Decreasing waiting time for treatment before a...</td>\n",
       "      <td>0</td>\n",
       "    </tr>\n",
       "    <tr>\n",
       "      <th>24996</th>\n",
       "      <td>31153036</td>\n",
       "      <td>Hypomethylating agents in the treatment of acu...</td>\n",
       "      <td>0</td>\n",
       "    </tr>\n",
       "    <tr>\n",
       "      <th>24997</th>\n",
       "      <td>31152989</td>\n",
       "      <td>Synthesis and antiproliferative activity of cu...</td>\n",
       "      <td>0</td>\n",
       "    </tr>\n",
       "    <tr>\n",
       "      <th>24998</th>\n",
       "      <td>31152988</td>\n",
       "      <td>Bioaccumulation of polycyclic aromatic hydroca...</td>\n",
       "      <td>0</td>\n",
       "    </tr>\n",
       "    <tr>\n",
       "      <th>24999</th>\n",
       "      <td>31152973</td>\n",
       "      <td>nan</td>\n",
       "      <td>0</td>\n",
       "    </tr>\n",
       "  </tbody>\n",
       "</table>\n",
       "<p>25000 rows × 3 columns</p>\n",
       "</div>"
      ],
      "text/plain": [
       "           pmid                                              title pubtype\n",
       "0      29650023  Sustained impact of energy-dense TV and online...       1\n",
       "1      29649996  The effects of synbiotic supplementation on ho...       1\n",
       "2      29649669  360° virtual reality video for the acquisition...       1\n",
       "3      29649082  Transcutaneous Electrical Nerve Stimulation Re...       1\n",
       "4      29648860  Motivation and readiness for tobacco cessation...       1\n",
       "...         ...                                                ...     ...\n",
       "24995  31153048  Decreasing waiting time for treatment before a...       0\n",
       "24996  31153036  Hypomethylating agents in the treatment of acu...       0\n",
       "24997  31152989  Synthesis and antiproliferative activity of cu...       0\n",
       "24998  31152988  Bioaccumulation of polycyclic aromatic hydroca...       0\n",
       "24999  31152973                                                nan       0\n",
       "\n",
       "[25000 rows x 3 columns]"
      ]
     },
     "execution_count": 233,
     "metadata": {},
     "output_type": "execute_result"
    }
   ],
   "source": [
    "#### Call the function to extract text from 'title' column\n",
    "\n",
    "column_name = \"title\"\n",
    "df_selected = select_text(pubmed_data_filtered, colname=column_name)\n",
    "\n",
    "df_selected"
   ]
  },
  {
   "cell_type": "markdown",
   "metadata": {},
   "source": [
    "### The output should look like this: \n",
    "\n",
    "<img src=\"Image/DataPreprocessing-Assignment-Ex1-6.png\" width=450, height=350, alt=\"Alternative text\"/>"
   ]
  },
  {
   "cell_type": "markdown",
   "metadata": {
    "id": "j28wFzX6Rfn7"
   },
   "source": [
    "## Ex 1-5. Split data"
   ]
  },
  {
   "cell_type": "code",
   "execution_count": 234,
   "metadata": {
    "id": "tjKwdnJAPS2F"
   },
   "outputs": [],
   "source": [
    "#### Split data from 'df_selected' into X_data and y_data\n",
    "#### y_data must contain data from label column only\n",
    "#### X_data includes data from all the other columns\n",
    "\n",
    "# Insert your code here\n",
    "X_data = df_selected.drop(columns='pubtype')\n",
    "y_data = df_selected['pubtype']"
   ]
  },
  {
   "cell_type": "code",
   "execution_count": 235,
   "metadata": {},
   "outputs": [
    {
     "data": {
      "text/html": [
       "<div>\n",
       "<style scoped>\n",
       "    .dataframe tbody tr th:only-of-type {\n",
       "        vertical-align: middle;\n",
       "    }\n",
       "\n",
       "    .dataframe tbody tr th {\n",
       "        vertical-align: top;\n",
       "    }\n",
       "\n",
       "    .dataframe thead th {\n",
       "        text-align: right;\n",
       "    }\n",
       "</style>\n",
       "<table border=\"1\" class=\"dataframe\">\n",
       "  <thead>\n",
       "    <tr style=\"text-align: right;\">\n",
       "      <th></th>\n",
       "      <th>pmid</th>\n",
       "      <th>title</th>\n",
       "    </tr>\n",
       "  </thead>\n",
       "  <tbody>\n",
       "    <tr>\n",
       "      <th>0</th>\n",
       "      <td>29650023</td>\n",
       "      <td>Sustained impact of energy-dense TV and online...</td>\n",
       "    </tr>\n",
       "    <tr>\n",
       "      <th>1</th>\n",
       "      <td>29649996</td>\n",
       "      <td>The effects of synbiotic supplementation on ho...</td>\n",
       "    </tr>\n",
       "    <tr>\n",
       "      <th>2</th>\n",
       "      <td>29649669</td>\n",
       "      <td>360° virtual reality video for the acquisition...</td>\n",
       "    </tr>\n",
       "    <tr>\n",
       "      <th>3</th>\n",
       "      <td>29649082</td>\n",
       "      <td>Transcutaneous Electrical Nerve Stimulation Re...</td>\n",
       "    </tr>\n",
       "    <tr>\n",
       "      <th>4</th>\n",
       "      <td>29648860</td>\n",
       "      <td>Motivation and readiness for tobacco cessation...</td>\n",
       "    </tr>\n",
       "  </tbody>\n",
       "</table>\n",
       "</div>"
      ],
      "text/plain": [
       "       pmid                                              title\n",
       "0  29650023  Sustained impact of energy-dense TV and online...\n",
       "1  29649996  The effects of synbiotic supplementation on ho...\n",
       "2  29649669  360° virtual reality video for the acquisition...\n",
       "3  29649082  Transcutaneous Electrical Nerve Stimulation Re...\n",
       "4  29648860  Motivation and readiness for tobacco cessation..."
      ]
     },
     "execution_count": 235,
     "metadata": {},
     "output_type": "execute_result"
    }
   ],
   "source": [
    "#### Check the first 5 instance of X_data\n",
    "\n",
    "# Insert your code here\n",
    "X_data.head(5)"
   ]
  },
  {
   "cell_type": "markdown",
   "metadata": {},
   "source": [
    "### The output should look like this: \n",
    "\n",
    "<img src=\"Image/DataPreprocessing-Assignment-Ex1-7.png\" width=400, height=300, alt=\"Alternative text\"/>"
   ]
  },
  {
   "cell_type": "markdown",
   "metadata": {
    "id": "Bp3584bfSUkw"
   },
   "source": [
    "# Exercise 2 (Regular)\n"
   ]
  },
  {
   "cell_type": "markdown",
   "metadata": {},
   "source": [
    "### Let's split data into three subsets."
   ]
  },
  {
   "cell_type": "markdown",
   "metadata": {
    "id": "ey6cQv1USUyA"
   },
   "source": [
    "## Ex 2-1. Train and test split"
   ]
  },
  {
   "cell_type": "code",
   "execution_count": 236,
   "metadata": {
    "colab": {
     "base_uri": "https://localhost:8080/",
     "height": 228
    },
    "id": "ekfySJplSVHH",
    "outputId": "e25b3ab9-75d9-4237-9a51-ff351f05e2e0"
   },
   "outputs": [],
   "source": [
    "#### Split data into the subsets of train, validation, and test\n",
    "#### with a Ratio of 8:1:1.\n",
    "#### Make sure to stratify data in each set using the parameter named 'stratify'\n",
    "#### which aligns with the distribution of label class.\n",
    "#### Set the parameter values of random_state to 5 for reproducibility.\n",
    "\n",
    "# Insert your code here\n",
    "X_train, X_test, y_train, y_test = train_test_split(X_data, y_data, test_size=0.2, random_state=5, stratify=y_data)\n",
    "X_val, X_test, y_val, y_test = train_test_split(X_test,y_test, test_size=0.5, random_state=5, stratify=y_test)"
   ]
  },
  {
   "cell_type": "code",
   "execution_count": 237,
   "metadata": {
    "colab": {
     "base_uri": "https://localhost:8080/",
     "height": 245
    },
    "id": "pigxMFH4SVJ-",
    "outputId": "70a7631d-f064-4e8d-e243-67457c664fad"
   },
   "outputs": [
    {
     "name": "stdout",
     "output_type": "stream",
     "text": [
      "\n",
      "************** Data After Splitting **************\n",
      "\n",
      "Train Data: (20000, 2)\n",
      "Val Data: (2500, 2)\n",
      "Test Data: (2500, 2)\n",
      "\n",
      "\n",
      "\n",
      "\n",
      "************** Class Label Distribution **************\n",
      "\n",
      "Class Counts(label, row): Train\n",
      "pubtype\n",
      "0    11510\n",
      "1     8490\n",
      "Name: count, dtype: int64\n",
      "\n",
      "Class Counts(label, row): Validation\n",
      "pubtype\n",
      "0    1439\n",
      "1    1061\n",
      "Name: count, dtype: int64\n",
      "\n",
      "Class Counts(label, row): Test\n",
      "pubtype\n",
      "0    1439\n",
      "1    1061\n",
      "Name: count, dtype: int64\n",
      "\n",
      "\n"
     ]
    }
   ],
   "source": [
    "#### Check the data view of each data set\n",
    "\n",
    "# Insert your code here\n",
    "\n",
    "\n",
    "print(\"\\n************** Data After Splitting **************\\n\")\n",
    "print(\"Train Data: {}\".format(X_train.shape))\n",
    "print(\"Val Data: {}\".format(X_val.shape))\n",
    "print(\"Test Data: {}\".format(X_test.shape))\n",
    "print(\"\\n\")\n",
    "\n",
    "\n",
    "print(\"\\n\\n************** Class Label Distribution **************\")\n",
    "print('\\nClass Counts(label, row): Train')\n",
    "print(y_train.value_counts())\n",
    "print('\\nClass Counts(label, row): Validation')\n",
    "print(y_val.value_counts())\n",
    "print('\\nClass Counts(label, row): Test')\n",
    "print(y_test.value_counts())\n",
    "print(\"\\n\")\n"
   ]
  },
  {
   "cell_type": "markdown",
   "metadata": {},
   "source": [
    "### The output should look like this: \n",
    "\n",
    "<img src=\"Image/DataPreprocessing-Assignment-Ex2-1.png\" width=400, height=300, alt=\"Alternative text\"/>"
   ]
  },
  {
   "cell_type": "code",
   "execution_count": 238,
   "metadata": {},
   "outputs": [
    {
     "name": "stdout",
     "output_type": "stream",
     "text": [
      "\n",
      "\n",
      "************** First 5 Instances of Data **************\n",
      "\n",
      "First 5 Instance: Train\n",
      "\n",
      "           pmid                                              title\n",
      "7627   26566950  A pilot randomized controlled trial of telepho...\n",
      "8587   26209090  Vitamin D and prostate cancer prognosis: a Men...\n",
      "10087  25675661  Dissection with harmonic scalpel versus cold i...\n",
      "23673  31163254    MicroRNA heterogeneity in melanoma progression.\n",
      "8769   31347292  A randomized phase II trial of nab-paclitaxel ...\n",
      "\n",
      "First 5 Instance: Validation\n",
      "\n",
      "           pmid                                              title\n",
      "17012  31202269  Quercetin: a natural compound for ovarian canc...\n",
      "24250  31159469  Partial Surface Modification of Low Generation...\n",
      "18205  31193061  Antitumor effects of flavopiridol, a cyclin-de...\n",
      "8318   26311526  PATHOS: a phase II/III trial of risk-stratifie...\n",
      "9220   25986854  Impact of axillary dissection in women with in...\n",
      "\n",
      "First 5 Instance: Test\n",
      "\n",
      "           pmid                                              title\n",
      "10766  31886522  Effects of Notch glycosylation on health and d...\n",
      "20107  31180779   A rare complication of ureteral stent insertion.\n",
      "14713  31217730  Eicosapentaenoic acids enhance chemosensitivit...\n",
      "5475   27428671  Relationship between tumor biomarkers and effi...\n",
      "24371  31158101  Adjuvant Therapy in Nonmetastatic High-risk Ki...\n"
     ]
    }
   ],
   "source": [
    "## Display the first 5 instances of X data\n",
    "\n",
    "# Insert your code here\n",
    "\n",
    "print(\"\\n\\n************** First 5 Instances of Data **************\")\n",
    "\n",
    "print(\"\\nFirst 5 Instance: Train\\n\")\n",
    "print(X_train.head())\n",
    "print(\"\\nFirst 5 Instance: Validation\\n\")\n",
    "print(X_val.head())\n",
    "print(\"\\nFirst 5 Instance: Test\\n\")\n",
    "print(X_test.head())"
   ]
  },
  {
   "cell_type": "markdown",
   "metadata": {},
   "source": [
    "### The output should look like this: \n",
    "\n",
    "<img src=\"Image/DataPreprocessing-Assignment-Ex2-2.png\" width=450, height=350, alt=\"Alternative text\"/>"
   ]
  },
  {
   "cell_type": "markdown",
   "metadata": {
    "id": "3_rn-YaTUdTS"
   },
   "source": [
    "## Ex 2-2. Reset index of instances in each subset"
   ]
  },
  {
   "cell_type": "code",
   "execution_count": 239,
   "metadata": {
    "id": "SPc5zNtzSVMe",
    "outputId": "77b57c83-d65a-442f-ccd6-8cd982d50350"
   },
   "outputs": [],
   "source": [
    "#### Reset index of X, y data in Train, Validation, test sets\n",
    "\n",
    "# Insert your code here\n",
    "\n",
    "# Train Data\n",
    "X_train=X_train.reset_index(drop=True)\n",
    "y_train=y_train.reset_index(drop=True)\n",
    "\n",
    "\n",
    "# Validation Data\n",
    "X_val=X_val.reset_index(drop=True)\n",
    "y_val=y_val.reset_index(drop=True)\n",
    "\n",
    "# Test Data\n",
    "X_test=X_test.reset_index(drop=True)\n",
    "y_test=y_test.reset_index(drop=True)"
   ]
  },
  {
   "cell_type": "code",
   "execution_count": 240,
   "metadata": {
    "id": "JLxlD8xPSVPd",
    "outputId": "8dc3f074-e60f-4ae9-ad0c-05ae09ab7da7"
   },
   "outputs": [
    {
     "name": "stdout",
     "output_type": "stream",
     "text": [
      "\n",
      "************** Data After Index Reset **************\n",
      "\n",
      "\n",
      "************** First 5 Instances of Data **************\n",
      "\n",
      "First 5 Instance: Train\n",
      "       pmid                                              title\n",
      "0  26566950  A pilot randomized controlled trial of telepho...\n",
      "1  26209090  Vitamin D and prostate cancer prognosis: a Men...\n",
      "2  25675661  Dissection with harmonic scalpel versus cold i...\n",
      "3  31163254    MicroRNA heterogeneity in melanoma progression.\n",
      "4  31347292  A randomized phase II trial of nab-paclitaxel ...\n",
      "\n",
      "First 5 Instance: Validation\n",
      "       pmid                                              title\n",
      "0  31202269  Quercetin: a natural compound for ovarian canc...\n",
      "1  31159469  Partial Surface Modification of Low Generation...\n",
      "2  31193061  Antitumor effects of flavopiridol, a cyclin-de...\n",
      "3  26311526  PATHOS: a phase II/III trial of risk-stratifie...\n",
      "4  25986854  Impact of axillary dissection in women with in...\n",
      "\n",
      "First 5 Instance: Test\n",
      "       pmid                                              title\n",
      "0  31886522  Effects of Notch glycosylation on health and d...\n",
      "1  31180779   A rare complication of ureteral stent insertion.\n",
      "2  31217730  Eicosapentaenoic acids enhance chemosensitivit...\n",
      "3  27428671  Relationship between tumor biomarkers and effi...\n",
      "4  31158101  Adjuvant Therapy in Nonmetastatic High-risk Ki...\n"
     ]
    }
   ],
   "source": [
    "#### Display the first 5 instances of X data\n",
    "\n",
    "# Insert your code here\n",
    "\n",
    "print(\"\\n************** Data After Index Reset **************\\n\")\n",
    "print(\"\\n************** First 5 Instances of Data **************\")\n",
    "\n",
    "print(\"\\nFirst 5 Instance: Train\")\n",
    "print(X_train.head())\n",
    "print(\"\\nFirst 5 Instance: Validation\")\n",
    "print(X_val.head())\n",
    "print(\"\\nFirst 5 Instance: Test\")\n",
    "print(X_test.head())"
   ]
  },
  {
   "cell_type": "markdown",
   "metadata": {},
   "source": [
    "### The output should look like this: \n",
    "\n",
    "<img src=\"Image/DataPreprocessing-Assignment-Ex2-3.png\" width=450, height=350, alt=\"Alternative text\"/>"
   ]
  },
  {
   "cell_type": "markdown",
   "metadata": {
    "id": "hmnWElqPV2wj"
   },
   "source": [
    "# Exercise 3 (Regular)"
   ]
  },
  {
   "cell_type": "markdown",
   "metadata": {},
   "source": [
    "### Let's pre-process data using X_train data\n"
   ]
  },
  {
   "cell_type": "code",
   "execution_count": 241,
   "metadata": {
    "id": "9NIrcG2QV3HZ"
   },
   "outputs": [],
   "source": [
    "#### Make sure that text data in selected column are string\n",
    "#### Use X_train data for processing\n",
    "\n",
    "# Insert your code here\n",
    "\n",
    "X_data=X_train.iloc[:, -1].astype(str)"
   ]
  },
  {
   "cell_type": "code",
   "execution_count": 242,
   "metadata": {
    "id": "94H41IxLzAIT"
   },
   "outputs": [],
   "source": [
    "#### 1. Convert all characters to lowercase\n",
    "\n",
    "# Insert your code here\n",
    "\n",
    "X_data = X_data.map(lambda x: x.lower())"
   ]
  },
  {
   "cell_type": "code",
   "execution_count": 243,
   "metadata": {
    "id": "5ll9Tu7xy8iJ"
   },
   "outputs": [],
   "source": [
    "#### 2. remove punctuation\n",
    "\n",
    "# Insert your code here\n",
    "\n",
    "X_data = X_data.str.replace('[^\\w\\s]', '', regex=True)"
   ]
  },
  {
   "cell_type": "code",
   "execution_count": 244,
   "metadata": {
    "id": "CShUCCjszTvr"
   },
   "outputs": [],
   "source": [
    "#### 3. tokenize sentence\n",
    "\n",
    "# Insert your code here\n",
    "\n",
    "X_data = X_data.apply(nltk.word_tokenize)"
   ]
  },
  {
   "cell_type": "code",
   "execution_count": 245,
   "metadata": {
    "id": "6Fmboy0vzTyX"
   },
   "outputs": [],
   "source": [
    "#### 4. remove stopwords\n",
    "\n",
    "# Insert your code here\n",
    "\n",
    "stopword_list = stopwords.words(\"english\")\n",
    "X_data = X_data.apply(lambda x: [word for word in x if word not in stopword_list])"
   ]
  },
  {
   "cell_type": "code",
   "execution_count": 246,
   "metadata": {
    "id": "bkNJnDqhzT1B"
   },
   "outputs": [],
   "source": [
    "#### 5. stemming\n",
    "\n",
    "# Insert your code here\n",
    "\n",
    "stemmer = PorterStemmer()\n",
    "X_data = X_data.apply(lambda x: [stemmer.stem(y) for y in x])"
   ]
  },
  {
   "cell_type": "code",
   "execution_count": 247,
   "metadata": {
    "id": "i8e70Ba4V3KE"
   },
   "outputs": [],
   "source": [
    "#### 6. removing unnecessary space\n",
    "\n",
    "# Insert your code here\n",
    "\n",
    "X_data = X_data.apply(lambda x: \" \".join(x))"
   ]
  },
  {
   "cell_type": "code",
   "execution_count": 248,
   "metadata": {
    "id": "00RHOIiSV3Mo",
    "outputId": "659ad619-c46b-4b73-c2af-69285f083e99"
   },
   "outputs": [
    {
     "name": "stdout",
     "output_type": "stream",
     "text": [
      "\n",
      "First 5 Instances After Pre-processing:\n",
      "\n"
     ]
    },
    {
     "data": {
      "text/plain": [
       "0    pilot random control trial telephon intervent ...\n",
       "1    vitamin prostat cancer prognosi mendelian rand...\n",
       "2    dissect harmon scalpel versu cold instrument p...\n",
       "3                 microrna heterogen melanoma progress\n",
       "4    random phase ii trial nabpaclitaxel gemcitabin...\n",
       "Name: title, dtype: object"
      ]
     },
     "execution_count": 248,
     "metadata": {},
     "output_type": "execute_result"
    }
   ],
   "source": [
    "#### 7. Check data view\n",
    "\n",
    "# Insert your code here\n",
    "\n",
    "print(\"\\nFirst 5 Instances After Pre-processing:\\n\")\n",
    "\n",
    "X_data.head(5)"
   ]
  },
  {
   "cell_type": "markdown",
   "metadata": {},
   "source": [
    "### The output should look like this: \n",
    "\n",
    "<img src=\"Image/DataPreprocessing-Assignment-Ex3-1.png\" width=450, height=350, alt=\"Alternative text\"/>"
   ]
  },
  {
   "cell_type": "markdown",
   "metadata": {
    "id": "EmfKPvo9wEne"
   },
   "source": [
    "# Exercise 4 (Challenge)"
   ]
  },
  {
   "cell_type": "markdown",
   "metadata": {
    "id": "WRQvqOu-YqJx"
   },
   "source": [
    "## Ex 4-1. Create funtions"
   ]
  },
  {
   "cell_type": "markdown",
   "metadata": {
    "id": "2qe3AXWCV9MA"
   },
   "source": [
    "### Create 3 functions that align with each regular exercise with the following names:  \n",
    "####     - load_data(filename, colname)   \n",
    "####     - split_data(X_data, y_data)    \n",
    "####     - preprocess_data(X_data)"
   ]
  },
  {
   "cell_type": "code",
   "execution_count": 249,
   "metadata": {
    "id": "ZId3r7iLLipc"
   },
   "outputs": [],
   "source": [
    "#### Create a function named \"load_data()\" \n",
    "#### that includes all the code you write for Exercise 1.\n",
    "\n",
    "# Insert your code here\n",
    "\n",
    "def load_data(filename, colname):\n",
    "    \"\"\"\n",
    "    Read in input file and load data\n",
    "\n",
    "    filename: csv file\n",
    "    colname: column name for texts\n",
    "    return: X and y dataframe\n",
    "    \"\"\"\n",
    "\n",
    "    ## 1. Read in data from input file\n",
    "    df = pd.read_csv(filename, sep=\"\\t\", encoding='utf-8')\n",
    "\n",
    "    # Check number of rows and columns\n",
    "    print(\"No of Rows: {}\".format(df.shape[0]))\n",
    "    print(\"No of Columns: {}\".format(df.shape[1]))\n",
    "\n",
    "    # Check the first few instances\n",
    "    print(\"\\nData View: First Few Instances\\n\")\n",
    "    print(df.head(10))\n",
    "\n",
    "\n",
    "    ## 2. Select data needed for processing & convert labels\n",
    "    df = df[['pmid', colname, 'pubtype']]\n",
    "    df[\"pubtype\"] = df[\"pubtype\"].apply(lambda x: 1 if x == 'RCT' else 0)\n",
    "\n",
    "    # Check label class\n",
    "    print('\\nClass Counts(label, row): Total')\n",
    "    print(df[\"pubtype\"].value_counts())\n",
    "    \n",
    "\n",
    "    ## 3. Cleaning data\n",
    "    # Trim unnecessary spaces for strings\n",
    "    df[colname] = df[colname].apply(lambda x: str(x))\n",
    "\n",
    "    # Check the first few instances\n",
    "    print(\"\\nData View: First Few Instances\\n\")\n",
    "    print(df.head(10))\n",
    "\n",
    "    # 3-1. Remove null values\n",
    "    df=df.dropna()\n",
    "\n",
    "    # Check number of rows and columns\n",
    "    print(\"No of rows (After dropping null values): {}\".format(df.shape[0]))\n",
    "    print(\"No of columns: {}\".format(df.shape[1]))\n",
    "\n",
    "    # 3-2. Remove duplicates and keep first occurrence\n",
    "    df.drop_duplicates(subset=['pmid'], keep='first', inplace=True)\n",
    "\n",
    "    # Check number of rows and columns\n",
    "    print(\"No of rows (After removing duplicates): {}\".format(df.shape[0]))\n",
    "    print(\"No of columns: {}\".format(df.shape[1]))\n",
    "\n",
    "    # Check the first few instances\n",
    "    print(\"\\nData View: First Few Instances\\n\")\n",
    "    print(df.head(10))\n",
    "    \n",
    "\n",
    "    ## 4. Split into X and y (target)\n",
    "    X, y = df.iloc[:, :-1], df.iloc[:, -1]\n",
    "\n",
    "    return X, y"
   ]
  },
  {
   "cell_type": "code",
   "execution_count": 250,
   "metadata": {
    "id": "6onXzUw7V3Ek"
   },
   "outputs": [],
   "source": [
    "#### Create a function named \"split_data()\" \n",
    "#### that contains all the code you write for Exercise 2.\n",
    "\n",
    "# Insert your code here\n",
    "\n",
    "def split_data(X_data, y_data):\n",
    "\n",
    "    print(\"\\n************** Spliting Data **************\\n\")\n",
    "\n",
    "    X_train, X_test, y_train, y_test = train_test_split(X_data, y_data, test_size=0.2, random_state=5, stratify=y)\n",
    "    X_val, X_test, y_val, y_test = train_test_split(X_test,y_test, test_size=0.5, random_state=5, stratify=y_test)\n",
    "\n",
    "    ## Check the data view of each data set\n",
    "\n",
    "    print(\"\\n************** Data After Splitting **************\\n\")\n",
    "\n",
    "    ## Data Shape\n",
    "    print(\"Train Data: {}\".format(X_train.shape))\n",
    "    print(\"Val Data: {}\".format(X_val.shape))\n",
    "    print(\"Test Data: {}\".format(X_test.shape))\n",
    "\n",
    "    ## Label Distribution\n",
    "    print('\\nClass Counts(label, row): Train')\n",
    "    print(y_train.value_counts())\n",
    "    print('\\nClass Counts(label, row): Validation')\n",
    "    print(y_val.value_counts())\n",
    "    print('\\nClass Counts(label, row): Test')\n",
    "    print(y_test.value_counts())\n",
    "\n",
    "    ## Display the first 5 instances of X data\n",
    "    print(\"\\nFirst 5 Instance: Train\")\n",
    "    print(X_train.head())\n",
    "    print(\"\\nFirst 5 Instance: Validation\")\n",
    "    print(X_val.head())\n",
    "    print(\"\\nFirst 5 Instance: Test\")\n",
    "    print(X_test.head())\n",
    "\n",
    "    ## Reset index\n",
    "\n",
    "    print(\"\\n************** Resetting Index **************\\n\")\n",
    "\n",
    "    # Train Data\n",
    "    X_train=X_train.reset_index(drop=True)\n",
    "    y_train=y_train.reset_index(drop=True)\n",
    "\n",
    "\n",
    "    # Validation Data\n",
    "    X_val=X_val.reset_index(drop=True)\n",
    "    y_val=y_val.reset_index(drop=True)\n",
    "\n",
    "    # Test Data\n",
    "    X_test=X_test.reset_index(drop=True)\n",
    "    y_test=y_test.reset_index(drop=True)\n",
    "\n",
    "    ## Check data\n",
    "\n",
    "    print(\"\\n************** Data After Resetting **************\\n\")\n",
    "\n",
    "    ## Data Shape\n",
    "    print(\"\\nTrain Data: {}\".format(X_train.shape))\n",
    "    print(\"\\nValidation Data: {}\".format(X_val.shape))\n",
    "    print(\"Test Data: {}\".format(X_test.shape))\n",
    "\n",
    "    ## Label Distribution\n",
    "    print('\\nClass Counts(label, row): Train\\n')\n",
    "    print(y_train.value_counts())\n",
    "    print('\\nClass Counts(label, row): Validation\\n')\n",
    "    print(y_val.value_counts())\n",
    "    print('\\nClass Counts(label, row): Test\\n')\n",
    "    print(y_test.value_counts())\n",
    "\n",
    "    ## Display the first 5 instances of X data\n",
    "    print(\"\\nFirst 5 Instance: Train\\n\")\n",
    "    print(X_train.head())\n",
    "    print(\"\\nFirst 5 Instance: Validation\\n\")\n",
    "    print(X_val.head())\n",
    "    print(\"\\nFirst 5 Instance: Test\\n\")\n",
    "    print(X_test.head())\n",
    "\n",
    "    return (X_train, X_val, X_test, y_train, y_val, y_test)\n"
   ]
  },
  {
   "cell_type": "code",
   "execution_count": 251,
   "metadata": {
    "id": "Kx6Q8w3lrF-X"
   },
   "outputs": [],
   "source": [
    "#### Create a function named \"preprocess_data()\" \n",
    "#### that contains all the code you write for of Exercise 3.\n",
    "\n",
    "# Insert your code here\n",
    "\n",
    "def preprocess_data(X_data_raw):\n",
    "    \"\"\"\n",
    "       Preprocess data with lowercase conversion, punctuation removal, tokenization, stemming\n",
    "\n",
    "       X_data_raw: X data in dataframe\n",
    "       return: transformed dataframe\n",
    "\n",
    "    \"\"\"\n",
    "\n",
    "    X_data=X_data_raw.iloc[:, -1].astype(str)\n",
    "\n",
    "    ## 1. convert all characters to lowercase\n",
    "\n",
    "    X_data = X_data.map(lambda x: x.lower())\n",
    "\n",
    "\n",
    "    ## 2. remove punctuation\n",
    "\n",
    "    X_data = X_data.str.replace('[^\\w\\s]', '')\n",
    "\n",
    "\n",
    "    ## 3. tokenize sentence\n",
    "\n",
    "    X_data = X_data.apply(nltk.word_tokenize)\n",
    "\n",
    "\n",
    "    ## 4. remove stopwords\n",
    "\n",
    "    stopword_list = stopwords.words(\"english\")\n",
    "    X_data = X_data.apply(lambda x: [word for word in x if word not in stopword_list])\n",
    "\n",
    "\n",
    "    ## 5. stemming\n",
    "    stemmer = PorterStemmer()\n",
    "    X_data = X_data.apply(lambda x: [stemmer.stem(y) for y in x])\n",
    "\n",
    "\n",
    "    ## 6. removing unnecessary space\n",
    "    X_data = X_data.apply(lambda x: \" \".join(x))\n",
    "\n",
    "\n",
    "    # Check data view\n",
    "    print(\"\\nData View After Pre-processing:\\n\")\n",
    "    print(X_data.head())\n",
    "\n",
    "\n",
    "    return X_data"
   ]
  },
  {
   "cell_type": "markdown",
   "metadata": {
    "id": "se95oEEhYwFv"
   },
   "source": [
    "## Ex 4-2. Call each funtion in order"
   ]
  },
  {
   "cell_type": "code",
   "execution_count": 252,
   "metadata": {
    "id": "bOsP3rt7YwTx",
    "outputId": "ff83a735-a4db-4bee-9e4b-68986b6da950",
    "scrolled": false
   },
   "outputs": [
    {
     "name": "stdout",
     "output_type": "stream",
     "text": [
      "No of Rows: 25000\n",
      "No of Columns: 7\n",
      "\n",
      "Data View: First Few Instances\n",
      "\n",
      "       pmid  pubdate language  \\\n",
      "0  29650023   2018.0      eng   \n",
      "1  29649996   2018.0      eng   \n",
      "2  29649669   2018.0      eng   \n",
      "3  29649082      NaN      eng   \n",
      "4  29648860   2018.0      eng   \n",
      "5  29648580   2018.0      eng   \n",
      "6  29645086   2018.0      eng   \n",
      "7  29644504   2018.0      eng   \n",
      "8  29644408   2018.0      eng   \n",
      "9  31669564   2020.0      eng   \n",
      "\n",
      "                                               title  \\\n",
      "0  Sustained impact of energy-dense TV and online...   \n",
      "1  The effects of synbiotic supplementation on ho...   \n",
      "2  360° virtual reality video for the acquisition...   \n",
      "3  Transcutaneous Electrical Nerve Stimulation Re...   \n",
      "4  Motivation and readiness for tobacco cessation...   \n",
      "5  Bevacizumab plus hypofractionated radiotherapy...   \n",
      "6  Erlotinib plus either pazopanib or placebo in ...   \n",
      "7  Impact of smoking history on the outcomes of w...   \n",
      "8  MODUL-a multicenter randomized clinical trial ...   \n",
      "9  Toxicity and Biochemical Outcomes of Dose-Inte...   \n",
      "\n",
      "                                            abstract otherabstract pubtype  \n",
      "0  Policies restricting children's exposure to un...           NaN     RCT  \n",
      "1  To our knowledge, no reports are available ind...           NaN     RCT  \n",
      "2  360° virtual reality (VR) video is an exciting...           NaN     RCT  \n",
      "3  Individuals receiving radiation for head and n...           NaN     RCT  \n",
      "4  Despite considerable health risks due to lower...           NaN     RCT  \n",
      "5  The addition of bevacizumab to temozolomide-ba...           NaN     RCT  \n",
      "6  This study compared the efficacy and safety of...           NaN     RCT  \n",
      "7  To assess the impact of smoking history on the...           NaN     RCT  \n",
      "8  The old approach of one therapeutic for all pa...           NaN     RCT  \n",
      "9  Our purpose was to compare toxicity and bioche...           NaN     RCT  \n",
      "\n",
      "Class Counts(label, row): Total\n",
      "pubtype\n",
      "0    14388\n",
      "1    10612\n",
      "Name: count, dtype: int64\n",
      "\n",
      "Data View: First Few Instances\n",
      "\n",
      "       pmid                                              title  pubtype\n",
      "0  29650023  Sustained impact of energy-dense TV and online...        1\n",
      "1  29649996  The effects of synbiotic supplementation on ho...        1\n",
      "2  29649669  360° virtual reality video for the acquisition...        1\n",
      "3  29649082  Transcutaneous Electrical Nerve Stimulation Re...        1\n",
      "4  29648860  Motivation and readiness for tobacco cessation...        1\n",
      "5  29648580  Bevacizumab plus hypofractionated radiotherapy...        1\n",
      "6  29645086  Erlotinib plus either pazopanib or placebo in ...        1\n",
      "7  29644504  Impact of smoking history on the outcomes of w...        1\n",
      "8  29644408  MODUL-a multicenter randomized clinical trial ...        1\n",
      "9  31669564  Toxicity and Biochemical Outcomes of Dose-Inte...        1\n",
      "No of rows (After dropping null values): 25000\n",
      "No of columns: 3\n",
      "No of rows (After removing duplicates): 25000\n",
      "No of columns: 3\n",
      "\n",
      "Data View: First Few Instances\n",
      "\n",
      "       pmid                                              title  pubtype\n",
      "0  29650023  Sustained impact of energy-dense TV and online...        1\n",
      "1  29649996  The effects of synbiotic supplementation on ho...        1\n",
      "2  29649669  360° virtual reality video for the acquisition...        1\n",
      "3  29649082  Transcutaneous Electrical Nerve Stimulation Re...        1\n",
      "4  29648860  Motivation and readiness for tobacco cessation...        1\n",
      "5  29648580  Bevacizumab plus hypofractionated radiotherapy...        1\n",
      "6  29645086  Erlotinib plus either pazopanib or placebo in ...        1\n",
      "7  29644504  Impact of smoking history on the outcomes of w...        1\n",
      "8  29644408  MODUL-a multicenter randomized clinical trial ...        1\n",
      "9  31669564  Toxicity and Biochemical Outcomes of Dose-Inte...        1\n",
      "\n",
      "************** Spliting Data **************\n",
      "\n",
      "\n",
      "************** Data After Splitting **************\n",
      "\n",
      "Train Data: (20000, 2)\n",
      "Val Data: (2500, 2)\n",
      "Test Data: (2500, 2)\n",
      "\n",
      "Class Counts(label, row): Train\n",
      "pubtype\n",
      "0    11510\n",
      "1     8490\n",
      "Name: count, dtype: int64\n",
      "\n",
      "Class Counts(label, row): Validation\n",
      "pubtype\n",
      "0    1439\n",
      "1    1061\n",
      "Name: count, dtype: int64\n",
      "\n",
      "Class Counts(label, row): Test\n",
      "pubtype\n",
      "0    1439\n",
      "1    1061\n",
      "Name: count, dtype: int64\n",
      "\n",
      "First 5 Instance: Train\n",
      "           pmid                                              title\n",
      "7627   26566950  A pilot randomized controlled trial of telepho...\n",
      "8587   26209090  Vitamin D and prostate cancer prognosis: a Men...\n",
      "10087  25675661  Dissection with harmonic scalpel versus cold i...\n",
      "23673  31163254    MicroRNA heterogeneity in melanoma progression.\n",
      "8769   31347292  A randomized phase II trial of nab-paclitaxel ...\n",
      "\n",
      "First 5 Instance: Validation\n",
      "           pmid                                              title\n",
      "17012  31202269  Quercetin: a natural compound for ovarian canc...\n",
      "24250  31159469  Partial Surface Modification of Low Generation...\n",
      "18205  31193061  Antitumor effects of flavopiridol, a cyclin-de...\n",
      "8318   26311526  PATHOS: a phase II/III trial of risk-stratifie...\n",
      "9220   25986854  Impact of axillary dissection in women with in...\n",
      "\n",
      "First 5 Instance: Test\n",
      "           pmid                                              title\n",
      "10766  31886522  Effects of Notch glycosylation on health and d...\n",
      "20107  31180779   A rare complication of ureteral stent insertion.\n",
      "14713  31217730  Eicosapentaenoic acids enhance chemosensitivit...\n",
      "5475   27428671  Relationship between tumor biomarkers and effi...\n",
      "24371  31158101  Adjuvant Therapy in Nonmetastatic High-risk Ki...\n",
      "\n",
      "************** Resetting Index **************\n",
      "\n",
      "\n",
      "************** Data After Resetting **************\n",
      "\n",
      "\n",
      "Train Data: (20000, 2)\n",
      "\n",
      "Validation Data: (2500, 2)\n",
      "Test Data: (2500, 2)\n",
      "\n",
      "Class Counts(label, row): Train\n",
      "\n",
      "pubtype\n",
      "0    11510\n",
      "1     8490\n",
      "Name: count, dtype: int64\n",
      "\n",
      "Class Counts(label, row): Validation\n",
      "\n",
      "pubtype\n",
      "0    1439\n",
      "1    1061\n",
      "Name: count, dtype: int64\n",
      "\n",
      "Class Counts(label, row): Test\n",
      "\n",
      "pubtype\n",
      "0    1439\n",
      "1    1061\n",
      "Name: count, dtype: int64\n",
      "\n",
      "First 5 Instance: Train\n",
      "\n",
      "       pmid                                              title\n",
      "0  26566950  A pilot randomized controlled trial of telepho...\n",
      "1  26209090  Vitamin D and prostate cancer prognosis: a Men...\n",
      "2  25675661  Dissection with harmonic scalpel versus cold i...\n",
      "3  31163254    MicroRNA heterogeneity in melanoma progression.\n",
      "4  31347292  A randomized phase II trial of nab-paclitaxel ...\n",
      "\n",
      "First 5 Instance: Validation\n",
      "\n",
      "       pmid                                              title\n",
      "0  31202269  Quercetin: a natural compound for ovarian canc...\n",
      "1  31159469  Partial Surface Modification of Low Generation...\n",
      "2  31193061  Antitumor effects of flavopiridol, a cyclin-de...\n",
      "3  26311526  PATHOS: a phase II/III trial of risk-stratifie...\n",
      "4  25986854  Impact of axillary dissection in women with in...\n",
      "\n",
      "First 5 Instance: Test\n",
      "\n",
      "       pmid                                              title\n",
      "0  31886522  Effects of Notch glycosylation on health and d...\n",
      "1  31180779   A rare complication of ureteral stent insertion.\n",
      "2  31217730  Eicosapentaenoic acids enhance chemosensitivit...\n",
      "3  27428671  Relationship between tumor biomarkers and effi...\n",
      "4  31158101  Adjuvant Therapy in Nonmetastatic High-risk Ki...\n",
      "\n",
      "Data View After Pre-processing:\n",
      "\n",
      "0    pilot random control trial telephon intervent ...\n",
      "1    vitamin prostat cancer prognosi : mendelian ra...\n",
      "2    dissect harmon scalpel versu cold instrument p...\n",
      "3               microrna heterogen melanoma progress .\n",
      "4    random phase ii trial nab-paclitaxel gemcitabi...\n",
      "Name: title, dtype: object\n",
      "\n",
      "First 5 Instance After Pre-processing:\n",
      "\n"
     ]
    },
    {
     "data": {
      "text/plain": [
       "0    pilot random control trial telephon intervent ...\n",
       "1    vitamin prostat cancer prognosi : mendelian ra...\n",
       "2    dissect harmon scalpel versu cold instrument p...\n",
       "3               microrna heterogen melanoma progress .\n",
       "4    random phase ii trial nab-paclitaxel gemcitabi...\n",
       "Name: title, dtype: object"
      ]
     },
     "execution_count": 252,
     "metadata": {},
     "output_type": "execute_result"
    }
   ],
   "source": [
    "#### Call three functions using the following filename and column name\n",
    "\n",
    "in_filename = \"pubmed_data.txt\"\n",
    "colname = \"title\"\n",
    "\n",
    "X, y = load_data(in_filename, colname)\n",
    "X_train, X_val, X_test, y_train, y_val, y_test = split_data(X, y)\n",
    "X_train_processed = preprocess_data(X_train)\n",
    "\n",
    "## Display the first 5 instances of preprocessed train data\n",
    "## The output should look as the same as the one for Exercise 3.\n",
    "\n",
    "# Insert your code here\n",
    "\n",
    "print(\"\\nFirst 5 Instance After Pre-processing:\\n\")\n",
    "X_train_processed.head(5)"
   ]
  },
  {
   "cell_type": "code",
   "execution_count": 253,
   "metadata": {},
   "outputs": [
    {
     "name": "stdout",
     "output_type": "stream",
     "text": [
      "\n",
      "First 5 Instance After Pre-processing:\n",
      "\n"
     ]
    },
    {
     "data": {
      "text/plain": [
       "0    pilot random control trial telephon intervent ...\n",
       "1    vitamin prostat cancer prognosi : mendelian ra...\n",
       "2    dissect harmon scalpel versu cold instrument p...\n",
       "3               microrna heterogen melanoma progress .\n",
       "4    random phase ii trial nab-paclitaxel gemcitabi...\n",
       "Name: title, dtype: object"
      ]
     },
     "execution_count": 253,
     "metadata": {},
     "output_type": "execute_result"
    }
   ],
   "source": [
    "print(\"\\nFirst 5 Instance After Pre-processing:\\n\")\n",
    "X_train_processed.head(5)"
   ]
  },
  {
   "cell_type": "markdown",
   "metadata": {},
   "source": [
    "### The output should look like this: \n",
    "\n",
    "<img src=\"Image/DataPreprocessing-Assignment-Ex4-1.png\" width=450, height=350, alt=\"Alternative text\"/>"
   ]
  },
  {
   "cell_type": "markdown",
   "metadata": {},
   "source": [
    "# Provide an evidence that you have used AWS SageMaker for this assignment"
   ]
  },
  {
   "cell_type": "markdown",
   "metadata": {
    "id": "7mELZL6eL_OW"
   },
   "source": [
    "###  Create a SageMaker Notebook Instance named \" IS597MLC-SP2024-Data-Preprocessing-Assignment\" using 'ml.t3.medium' instance type. Please provide a screen shot (png or jpeg file) of your notebook including AWS SageMaker Notebook instace URL at the top in your image. Include the image named \"IS597MLC-YourSurname-YourFirstName\" in your submitted zipped file.\n"
   ]
  },
  {
   "cell_type": "markdown",
   "metadata": {},
   "source": [
    "### The image should look like this: \n",
    "\n",
    "<img src=\"Image/DataPreprocessing-Assignment-Ex5-1.png\" width=500, height=400, alt=\"Alternative text\"/>"
   ]
  },
  {
   "cell_type": "code",
   "execution_count": null,
   "metadata": {},
   "outputs": [],
   "source": []
  }
 ],
 "metadata": {
  "colab": {
   "collapsed_sections": [
    "KjDQGl91wA78",
    "saBSw8d6s27x",
    "Iq-0Xq3m7991",
    "_BMtd_QustFm",
    "_ljLeDQDKurM",
    "um11JsDDMjc5",
    "2Ey6qCYZOeGb",
    "j28wFzX6Rfn7",
    "ey6cQv1USUyA",
    "3_rn-YaTUdTS",
    "hmnWElqPV2wj",
    "EmfKPvo9wEne"
   ],
   "provenance": []
  },
  "kernelspec": {
   "display_name": "conda_python3",
   "language": "python",
   "name": "conda_python3"
  },
  "language_info": {
   "codemirror_mode": {
    "name": "ipython",
    "version": 3
   },
   "file_extension": ".py",
   "mimetype": "text/x-python",
   "name": "python",
   "nbconvert_exporter": "python",
   "pygments_lexer": "ipython3",
   "version": "3.10.13"
  }
 },
 "nbformat": 4,
 "nbformat_minor": 1
}
