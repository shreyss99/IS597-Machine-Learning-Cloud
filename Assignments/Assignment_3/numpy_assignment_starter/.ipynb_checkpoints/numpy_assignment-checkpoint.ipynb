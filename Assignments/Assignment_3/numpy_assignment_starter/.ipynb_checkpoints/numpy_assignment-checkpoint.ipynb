{
 "cells": [
  {
   "cell_type": "markdown",
   "id": "3c5a3e80091e298c",
   "metadata": {
    "collapsed": false,
    "jupyter": {
     "outputs_hidden": false
    }
   },
   "source": [
    "# Numpy Tutorial"
   ]
  },
  {
   "cell_type": "markdown",
   "id": "196923e27b063fe",
   "metadata": {
    "collapsed": false,
    "jupyter": {
     "outputs_hidden": false
    }
   },
   "source": [
    "## Imports"
   ]
  },
  {
   "cell_type": "code",
   "execution_count": 1,
   "id": "9a1f212201604170",
   "metadata": {
    "ExecuteTime": {
     "end_time": "2024-02-08T22:46:39.463269Z",
     "start_time": "2024-02-08T22:46:39.459997Z"
    },
    "collapsed": false,
    "jupyter": {
     "outputs_hidden": false
    }
   },
   "outputs": [],
   "source": [
    "import numpy as np"
   ]
  },
  {
   "cell_type": "markdown",
   "id": "fabb057499030958",
   "metadata": {
    "collapsed": false,
    "jupyter": {
     "outputs_hidden": false
    }
   },
   "source": [
    "## Sales Tracking Problem\n",
    "We are tracking sales of some products by salesperson.\n",
    "We will be creating an array of sales records.\n",
    "Each row of the array represents a sale by a particular sales person.\n",
    "Each column entry represents the number of units of that product included in the sale."
   ]
  },
  {
   "cell_type": "markdown",
   "id": "94007c4293ab433b",
   "metadata": {
    "collapsed": false,
    "jupyter": {
     "outputs_hidden": false
    }
   },
   "source": [
    "### Create 1D array indicating which salesperson is associated with which sales record."
   ]
  },
  {
   "cell_type": "code",
   "execution_count": 2,
   "id": "803cc942bd7a1fc6",
   "metadata": {
    "ExecuteTime": {
     "end_time": "2024-02-08T22:46:59.975263Z",
     "start_time": "2024-02-08T22:46:59.951578Z"
    },
    "collapsed": false,
    "jupyter": {
     "outputs_hidden": false
    }
   },
   "outputs": [
    {
     "data": {
      "text/plain": [
       "array(['Susan', 'Bob', 'Susan', 'Amit', 'Cesar', 'Xialiang', 'Susan',\n",
       "       'Amit', 'Bob', 'Cesar'], dtype='<U8')"
      ]
     },
     "execution_count": 2,
     "metadata": {},
     "output_type": "execute_result"
    }
   ],
   "source": [
    "salesperson_list = ['Susan',\n",
    "                    'Bob',\n",
    "                    'Susan',\n",
    "                    'Amit',\n",
    "                    'Cesar',\n",
    "                    'Xialiang',\n",
    "                    'Susan',\n",
    "                    'Amit',\n",
    "                    'Bob',\n",
    "                    'Cesar']\n",
    "\n",
    "salesperson_array = np.array(salesperson_list)\n",
    "salesperson_array"
   ]
  },
  {
   "cell_type": "markdown",
   "id": "77f7b5d8cb74badd",
   "metadata": {
    "collapsed": false,
    "jupyter": {
     "outputs_hidden": false
    }
   },
   "source": [
    "### Create a 2D array of sales records\n",
    "Each row represents a sale.\n",
    "Each column represents the quantity of a particular product included in that sale."
   ]
  },
  {
   "cell_type": "code",
   "execution_count": 3,
   "id": "7d10c02763721d93",
   "metadata": {
    "ExecuteTime": {
     "end_time": "2024-02-08T22:48:11.453657Z",
     "start_time": "2024-02-08T22:48:11.448480Z"
    },
    "collapsed": false,
    "jupyter": {
     "outputs_hidden": false
    }
   },
   "outputs": [
    {
     "data": {
      "text/plain": [
       "array([[1445, 2109, 1291, 1247,   83],\n",
       "       [ 511,  381,  648,  328, 1933],\n",
       "       [ 238, 2472, 1324,  699, 2472],\n",
       "       [ 859, 1781,  882, 1934,  384],\n",
       "       [2018, 1217, 1383,  811,  210],\n",
       "       [2008, 1815,  119, 1154, 1576],\n",
       "       [ 241, 1931, 1100,  391, 1929],\n",
       "       [1253,  404, 1244, 1909, 2296],\n",
       "       [1220,  339,  740, 1268,  730],\n",
       "       [ 684, 2251, 2143,  592, 2258]])"
      ]
     },
     "execution_count": 3,
     "metadata": {},
     "output_type": "execute_result"
    }
   ],
   "source": [
    "sales_record_list = [\n",
    "    [1445, 2109, 1291, 1247, 83],\n",
    "    [511, 381, 648, 328, 1933],\n",
    "    [238, 2472, 1324, 699, 2472],\n",
    "    [859, 1781, 882, 1934, 384],\n",
    "    [2018, 1217, 1383, 811, 210],\n",
    "    [2008, 1815, 119, 1154, 1576],\n",
    "    [241, 1931, 1100, 391, 1929],\n",
    "    [1253, 404, 1244, 1909, 2296],\n",
    "    [1220, 339, 740, 1268, 730],\n",
    "    [684, 2251, 2143, 592, 2258],\n",
    "]\n",
    "\n",
    "sales_record_array = np.array(sales_record_list)\n",
    "sales_record_array"
   ]
  },
  {
   "cell_type": "markdown",
   "id": "c12a71f1f25b8bfb",
   "metadata": {
    "collapsed": false,
    "jupyter": {
     "outputs_hidden": false
    }
   },
   "source": [
    "### Create a new sales record array containing only sales records for Susan."
   ]
  },
  {
   "cell_type": "code",
   "execution_count": 4,
   "id": "f0831b5b4f7609d6",
   "metadata": {
    "ExecuteTime": {
     "end_time": "2024-02-08T22:38:37.257050Z",
     "start_time": "2024-02-08T22:38:37.238255Z"
    },
    "collapsed": false,
    "jupyter": {
     "outputs_hidden": false
    }
   },
   "outputs": [
    {
     "data": {
      "text/plain": [
       "array([[1445, 2109, 1291, 1247,   83],\n",
       "       [ 238, 2472, 1324,  699, 2472],\n",
       "       [ 241, 1931, 1100,  391, 1929]])"
      ]
     },
     "execution_count": 4,
     "metadata": {},
     "output_type": "execute_result"
    }
   ],
   "source": [
    "susan_sales_array = sales_record_array[salesperson_array == 'Susan']\n",
    "susan_sales_array"
   ]
  },
  {
   "cell_type": "markdown",
   "id": "e60ccd8fadc721f",
   "metadata": {
    "collapsed": false,
    "jupyter": {
     "outputs_hidden": false
    }
   },
   "source": [
    "### Calculate total units sold in each of Susan's sales records"
   ]
  },
  {
   "cell_type": "code",
   "execution_count": 5,
   "id": "43b289974f7b24c5",
   "metadata": {
    "ExecuteTime": {
     "end_time": "2024-02-08T22:38:37.257818Z",
     "start_time": "2024-02-08T22:38:37.242876Z"
    },
    "collapsed": false,
    "jupyter": {
     "outputs_hidden": false
    }
   },
   "outputs": [
    {
     "data": {
      "text/plain": [
       "array([6175, 7205, 5592])"
      ]
     },
     "execution_count": 5,
     "metadata": {},
     "output_type": "execute_result"
    }
   ],
   "source": [
    "total_units_per_sales_record = susan_sales_array.sum(axis=1)\n",
    "total_units_per_sales_record"
   ]
  },
  {
   "cell_type": "markdown",
   "id": "a693c4ab10a045d2",
   "metadata": {
    "collapsed": false,
    "jupyter": {
     "outputs_hidden": false
    }
   },
   "source": [
    "### Calculate total units sold by Susan for each product"
   ]
  },
  {
   "cell_type": "code",
   "execution_count": 6,
   "id": "f49f80d759730632",
   "metadata": {
    "ExecuteTime": {
     "end_time": "2024-02-08T22:38:37.258393Z",
     "start_time": "2024-02-08T22:38:37.245674Z"
    },
    "collapsed": false,
    "jupyter": {
     "outputs_hidden": false
    }
   },
   "outputs": [
    {
     "data": {
      "text/plain": [
       "array([1924, 6512, 3715, 2337, 4484])"
      ]
     },
     "execution_count": 6,
     "metadata": {},
     "output_type": "execute_result"
    }
   ],
   "source": [
    "total_units_per_product = susan_sales_array.sum(axis=0)\n",
    "total_units_per_product"
   ]
  },
  {
   "cell_type": "code",
   "execution_count": null,
   "id": "7019c0feb1acc983",
   "metadata": {
    "ExecuteTime": {
     "end_time": "2024-02-08T22:38:37.258714Z",
     "start_time": "2024-02-08T22:38:37.252032Z"
    },
    "collapsed": false,
    "jupyter": {
     "outputs_hidden": false
    }
   },
   "outputs": [],
   "source": []
  },
  {
   "cell_type": "markdown",
   "id": "5b2ff495c1bded5d",
   "metadata": {
    "collapsed": false,
    "jupyter": {
     "outputs_hidden": false
    }
   },
   "source": [
    "### Calculate total units sold by Susan"
   ]
  },
  {
   "cell_type": "code",
   "execution_count": 8,
   "id": "da5147e2c858443d",
   "metadata": {
    "ExecuteTime": {
     "end_time": "2024-02-08T22:38:37.259736Z",
     "start_time": "2024-02-08T22:38:37.255623Z"
    },
    "collapsed": false,
    "jupyter": {
     "outputs_hidden": false
    }
   },
   "outputs": [
    {
     "data": {
      "text/plain": [
       "18972"
      ]
     },
     "execution_count": 8,
     "metadata": {},
     "output_type": "execute_result"
    }
   ],
   "source": [
    "total_units = susan_sales_array.sum()\n",
    "total_units"
   ]
  },
  {
   "cell_type": "markdown",
   "id": "95f502f4-988d-4cf4-9b65-bd6dbbea3802",
   "metadata": {
    "ExecuteTime": {
     "end_time": "2024-02-08T22:38:37.263144Z",
     "start_time": "2024-02-08T22:38:37.258515Z"
    },
    "collapsed": false,
    "jupyter": {
     "outputs_hidden": false
    }
   },
   "source": [
    "### Calculate total units sold by Susan for the first and second products"
   ]
  },
  {
   "cell_type": "code",
   "execution_count": 14,
   "id": "93534079-f67c-468c-a95d-df0081b4776e",
   "metadata": {},
   "outputs": [
    {
     "data": {
      "text/plain": [
       "array([1924, 6512, 3715, 2337, 4484])"
      ]
     },
     "execution_count": 14,
     "metadata": {},
     "output_type": "execute_result"
    }
   ],
   "source": [
    "total_units_products_one_two = sum(susan_sales_array)\n",
    "total_units_products_one_two"
   ]
  },
  {
   "cell_type": "code",
   "execution_count": null,
   "id": "b35d067c-0f57-4acf-ae15-fb1822715868",
   "metadata": {},
   "outputs": [],
   "source": []
  }
 ],
 "metadata": {
  "kernelspec": {
   "display_name": "Python 3 (ipykernel)",
   "language": "python",
   "name": "python3"
  },
  "language_info": {
   "codemirror_mode": {
    "name": "ipython",
    "version": 3
   },
   "file_extension": ".py",
   "mimetype": "text/x-python",
   "name": "python",
   "nbconvert_exporter": "python",
   "pygments_lexer": "ipython3",
   "version": "3.11.5"
  }
 },
 "nbformat": 4,
 "nbformat_minor": 5
}
