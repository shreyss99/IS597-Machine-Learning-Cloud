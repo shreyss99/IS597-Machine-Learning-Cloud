{
 "cells": [
  {
   "cell_type": "markdown",
   "id": "3c5a3e80091e298c",
   "metadata": {
    "collapsed": false
   },
   "source": [
    "# Numpy Assignment"
   ]
  },
  {
   "cell_type": "markdown",
   "source": [
    "## Requirements\n",
    "This notebook requires the Anaconda virtual env that was created during the first week of this course and named _e4_trainor_python_course_.\n",
    "\n",
    "This is a stand-alone notebook."
   ],
   "metadata": {
    "collapsed": false
   },
   "id": "3c089bf1d43de9e7"
  },
  {
   "cell_type": "markdown",
   "id": "fabb057499030958",
   "metadata": {
    "collapsed": false
   },
   "source": [
    "## Overview\n",
    "### Basketball Game Ticket Tracking Problem\n",
    "We are tracking the ticket \"sales\" at basketball games hosted by particular teams. \n",
    "Note that \"sales\" is placed in quotations here because Promotional Tickets are not so much sold as given away.\n",
    "\n",
    "We will be creating an array of game ticket \"sales\" records.\n",
    "Each row of the array represents a game hosted by particular team (a game record).\n",
    "The columns represent the number of a particular type of ticket \"sold\" for that game:\n",
    "Season Tickets (1st column), Regular Tickets (2nd column), Promotional Tickets (3rd column)."
   ]
  },
  {
   "cell_type": "markdown",
   "source": [
    "## Imports"
   ],
   "metadata": {
    "collapsed": false
   },
   "id": "196923e27b063fe"
  },
  {
   "cell_type": "code",
   "outputs": [],
   "source": [
    "import numpy as np"
   ],
   "metadata": {
    "collapsed": false,
    "ExecuteTime": {
     "end_time": "2024-02-10T16:27:57.222159Z",
     "start_time": "2024-02-10T16:27:56.050709Z"
    }
   },
   "id": "9a1f212201604170",
   "execution_count": 1
  },
  {
   "cell_type": "markdown",
   "id": "94007c4293ab433b",
   "metadata": {
    "collapsed": false
   },
   "source": [
    "### A 1D array indicating which team is associated with which game record"
   ]
  },
  {
   "cell_type": "code",
   "execution_count": 2,
   "id": "803cc942bd7a1fc6",
   "metadata": {
    "collapsed": false,
    "ExecuteTime": {
     "end_time": "2024-02-10T16:27:57.230737Z",
     "start_time": "2024-02-10T16:27:57.226703Z"
    }
   },
   "outputs": [
    {
     "data": {
      "text/plain": "array(['Blues', 'Reds', 'Greens', 'Reds', 'Yellows', 'Oranges', 'Reds',\n       'Blues', 'Yellows', 'Reds'], dtype='<U7')"
     },
     "execution_count": 2,
     "metadata": {},
     "output_type": "execute_result"
    }
   ],
   "source": [
    "team_list = ['Blues',\n",
    "             'Reds',\n",
    "             'Greens',\n",
    "             'Reds',\n",
    "             'Yellows',\n",
    "             'Oranges',\n",
    "             'Reds',\n",
    "             'Blues',\n",
    "             'Yellows',\n",
    "             'Reds']\n",
    "\n",
    "team_array = np.array(team_list)\n",
    "team_array"
   ]
  },
  {
   "cell_type": "markdown",
   "id": "77f7b5d8cb74badd",
   "metadata": {
    "collapsed": false
   },
   "source": [
    "### A 2D array of game records\n",
    "Each row represents a game.\n",
    "Each column represents the quantity of tickets \"sold\" of a particular type: Season Tickets, Regular Tickets, Promotional Tickets.\n",
    "Two versions of the data are provided:  test and actual.\n",
    "Test values can be used to evaluate code.\n",
    "Actual values can be used to get proper answers."
   ]
  },
  {
   "cell_type": "code",
   "execution_count": 3,
   "id": "7d10c02763721d93",
   "metadata": {
    "collapsed": false,
    "ExecuteTime": {
     "end_time": "2024-02-10T16:27:57.239308Z",
     "start_time": "2024-02-10T16:27:57.233349Z"
    }
   },
   "outputs": [
    {
     "data": {
      "text/plain": "array([[1, 2, 3],\n       [1, 2, 3],\n       [1, 2, 3],\n       [1, 2, 3],\n       [1, 2, 3],\n       [1, 2, 3],\n       [1, 2, 3],\n       [1, 2, 3],\n       [1, 2, 3],\n       [1, 2, 3]])"
     },
     "execution_count": 3,
     "metadata": {},
     "output_type": "execute_result"
    }
   ],
   "source": [
    "game_record_list = [\n",
    "\n",
    "    # test values\n",
    "    [1, 2, 3],\n",
    "    [1, 2, 3],\n",
    "    [1, 2, 3],\n",
    "    [1, 2, 3],\n",
    "    [1, 2, 3],\n",
    "    [1, 2, 3],\n",
    "    [1, 2, 3],\n",
    "    [1, 2, 3],\n",
    "    [1, 2, 3],\n",
    "    [1, 2, 3],\n",
    "\n",
    "    # actual values\n",
    "    # [24997, 10170, 1389],\n",
    "    # [24989, 10647, 1657],\n",
    "    # [24957, 9693, 1155],\n",
    "    # [24977, 9461, 1602],\n",
    "    # [24970, 7630, 1470],\n",
    "    # [24985, 7310, 1774],\n",
    "    # [24981, 8484, 1701],\n",
    "    # [24975, 7788, 1626],\n",
    "    # [24961, 7513, 1232],\n",
    "    # [24950, 9695, 1079],\n",
    "]\n",
    "\n",
    "game_record_array = np.array(game_record_list)\n",
    "game_record_array"
   ]
  },
  {
   "cell_type": "markdown",
   "id": "c12a71f1f25b8bfb",
   "metadata": {
    "collapsed": false
   },
   "source": [
    "### Create a new game record array containing only game records for Reds"
   ]
  },
  {
   "cell_type": "code",
   "execution_count": 4,
   "id": "f0831b5b4f7609d6",
   "metadata": {
    "collapsed": false,
    "ExecuteTime": {
     "end_time": "2024-02-10T16:27:57.244301Z",
     "start_time": "2024-02-10T16:27:57.239538Z"
    }
   },
   "outputs": [],
   "source": [
    "# Insert code here."
   ]
  },
  {
   "cell_type": "markdown",
   "id": "e60ccd8fadc721f",
   "metadata": {
    "collapsed": false
   },
   "source": [
    "### Calculate total tickets \"sold\" in each of Reds game records"
   ]
  },
  {
   "cell_type": "code",
   "execution_count": 5,
   "id": "43b289974f7b24c5",
   "metadata": {
    "collapsed": false,
    "ExecuteTime": {
     "end_time": "2024-02-10T16:27:57.248715Z",
     "start_time": "2024-02-10T16:27:57.243542Z"
    }
   },
   "outputs": [],
   "source": [
    "# Insert code here."
   ]
  },
  {
   "cell_type": "markdown",
   "id": "a693c4ab10a045d2",
   "metadata": {
    "collapsed": false
   },
   "source": [
    "### Calculate total tickets \"sold\" by Reds for each ticket type"
   ]
  },
  {
   "cell_type": "code",
   "execution_count": 6,
   "id": "f49f80d759730632",
   "metadata": {
    "collapsed": false,
    "ExecuteTime": {
     "end_time": "2024-02-10T16:27:57.274579Z",
     "start_time": "2024-02-10T16:27:57.248061Z"
    }
   },
   "outputs": [],
   "source": [
    "# Insert code here."
   ]
  },
  {
   "cell_type": "markdown",
   "id": "5b2ff495c1bded5d",
   "metadata": {
    "collapsed": false
   },
   "source": [
    "### Calculate total tickets \"sold\" by Reds"
   ]
  },
  {
   "cell_type": "code",
   "execution_count": 7,
   "id": "da5147e2c858443d",
   "metadata": {
    "collapsed": false,
    "ExecuteTime": {
     "end_time": "2024-02-10T16:27:57.275120Z",
     "start_time": "2024-02-10T16:27:57.251942Z"
    }
   },
   "outputs": [],
   "source": [
    "# Insert code here."
   ]
  },
  {
   "cell_type": "markdown",
   "id": "95f502f4-988d-4cf4-9b65-bd6dbbea3802",
   "metadata": {
    "ExecuteTime": {
     "end_time": "2024-02-08T22:38:37.263144Z",
     "start_time": "2024-02-08T22:38:37.258515Z"
    },
    "collapsed": false
   },
   "source": [
    "### Calculate total Season Tickets and Regular Tickets \"sold\" by Reds"
   ]
  },
  {
   "cell_type": "code",
   "execution_count": 8,
   "id": "93534079-f67c-468c-a95d-df0081b4776e",
   "metadata": {
    "ExecuteTime": {
     "end_time": "2024-02-10T16:27:57.275516Z",
     "start_time": "2024-02-10T16:27:57.255652Z"
    }
   },
   "outputs": [],
   "source": [
    "# Insert code here."
   ]
  },
  {
   "cell_type": "markdown",
   "id": "75f27eb45239b828",
   "metadata": {
    "collapsed": false
   },
   "source": [
    "### Calculate total Regular Tickets and Promotional Tickets \"sold\" by Reds"
   ]
  },
  {
   "cell_type": "code",
   "execution_count": 9,
   "id": "d77fb779a340ddb5",
   "metadata": {
    "collapsed": false,
    "ExecuteTime": {
     "end_time": "2024-02-10T16:27:57.275927Z",
     "start_time": "2024-02-10T16:27:57.259156Z"
    }
   },
   "outputs": [],
   "source": [
    "# Insert code here."
   ]
  },
  {
   "cell_type": "markdown",
   "source": [
    "### Challenge: Create and show an array containing Reds Regular Tickets \"sold\" by game"
   ],
   "metadata": {
    "collapsed": false
   },
   "id": "3f438781fa9a3cee"
  },
  {
   "cell_type": "code",
   "outputs": [],
   "source": [
    "# Insert code here."
   ],
   "metadata": {
    "collapsed": false,
    "ExecuteTime": {
     "end_time": "2024-02-10T16:27:57.276385Z",
     "start_time": "2024-02-10T16:27:57.264439Z"
    }
   },
   "id": "b384050b4d3f8777",
   "execution_count": 10
  },
  {
   "cell_type": "markdown",
   "source": [
    "### Challenge: Calculate total Regular Tickets \"sold\" by Reds\n"
   ],
   "metadata": {
    "collapsed": false
   },
   "id": "a8b1e67eebf09791"
  },
  {
   "cell_type": "code",
   "outputs": [],
   "source": [
    "# Insert code here."
   ],
   "metadata": {
    "collapsed": false,
    "ExecuteTime": {
     "end_time": "2024-02-10T16:27:57.276865Z",
     "start_time": "2024-02-10T16:27:57.267389Z"
    }
   },
   "id": "b0e353cc5b665958",
   "execution_count": 11
  }
 ],
 "metadata": {
  "kernelspec": {
   "display_name": "Python 3 (ipykernel)",
   "language": "python",
   "name": "python3"
  },
  "language_info": {
   "codemirror_mode": {
    "name": "ipython",
    "version": 3
   },
   "file_extension": ".py",
   "mimetype": "text/x-python",
   "name": "python",
   "nbconvert_exporter": "python",
   "pygments_lexer": "ipython3",
   "version": "3.11.5"
  }
 },
 "nbformat": 4,
 "nbformat_minor": 5
}
