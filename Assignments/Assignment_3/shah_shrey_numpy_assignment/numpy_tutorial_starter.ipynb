{
 "cells": [
  {
   "cell_type": "markdown",
   "id": "3c5a3e80091e298c",
   "metadata": {
    "collapsed": false
   },
   "source": [
    "# Numpy Tutorial"
   ]
  },
  {
   "cell_type": "markdown",
   "id": "f7a6542108dd13e",
   "metadata": {
    "collapsed": false
   },
   "source": [
    "## Requirements\n",
    "This notebook requires the Anaconda virtual env that was created during the first week of this course and named _e4_trainor_python_course_.\n",
    "\n",
    "This is a stand-alone notebook."
   ]
  },
  {
   "cell_type": "markdown",
   "id": "fabb057499030958",
   "metadata": {
    "collapsed": false
   },
   "source": [
    "## Overview\n",
    "### Sales Tracking Problem\n",
    "We are tracking sales of some products by salesperson.\n",
    "We will be creating an array of sales records.\n",
    "Each row of the array represents a sale by a particular sales person (a sales record).\n",
    "Each column entry represents the number of units of that product included in the sale."
   ]
  },
  {
   "cell_type": "markdown",
   "id": "196923e27b063fe",
   "metadata": {
    "collapsed": false
   },
   "source": [
    "## Imports"
   ]
  },
  {
   "cell_type": "code",
   "execution_count": 1,
   "id": "9a1f212201604170",
   "metadata": {
    "collapsed": false,
    "ExecuteTime": {
     "end_time": "2024-02-10T16:21:38.473649Z",
     "start_time": "2024-02-10T16:21:37.308588Z"
    }
   },
   "outputs": [],
   "source": [
    "import numpy as np"
   ]
  },
  {
   "cell_type": "markdown",
   "id": "94007c4293ab433b",
   "metadata": {
    "collapsed": false
   },
   "source": [
    "### A 1D array indicating which salesperson is associated with which sales record"
   ]
  },
  {
   "cell_type": "code",
   "execution_count": 2,
   "id": "803cc942bd7a1fc6",
   "metadata": {
    "collapsed": false,
    "ExecuteTime": {
     "end_time": "2024-02-10T16:21:38.484269Z",
     "start_time": "2024-02-10T16:21:38.477909Z"
    }
   },
   "outputs": [
    {
     "data": {
      "text/plain": "array(['Susan', 'Bob', 'Susan', 'Amit', 'Cesar', 'Xialiang', 'Susan',\n       'Amit', 'Bob', 'Cesar'], dtype='<U8')"
     },
     "execution_count": 2,
     "metadata": {},
     "output_type": "execute_result"
    }
   ],
   "source": [
    "salesperson_list = ['Susan',\n",
    "                    'Bob',\n",
    "                    'Susan',\n",
    "                    'Amit',\n",
    "                    'Cesar',\n",
    "                    'Xialiang',\n",
    "                    'Susan',\n",
    "                    'Amit',\n",
    "                    'Bob',\n",
    "                    'Cesar']\n",
    "\n",
    "salesperson_array = np.array(salesperson_list)\n",
    "salesperson_array"
   ]
  },
  {
   "cell_type": "markdown",
   "id": "77f7b5d8cb74badd",
   "metadata": {
    "collapsed": false
   },
   "source": [
    "### A 2D array of sales records\n",
    "Each row represents a sale.\n",
    "Each column represents the quantity of a particular product included in that sale.\n",
    "Two versions of the data are provided:  test and actual.\n",
    "Test values are used to evaluate code.\n",
    "Actual values are used to get proper answers."
   ]
  },
  {
   "cell_type": "code",
   "execution_count": 3,
   "id": "7d10c02763721d93",
   "metadata": {
    "collapsed": false,
    "ExecuteTime": {
     "end_time": "2024-02-10T16:21:38.490365Z",
     "start_time": "2024-02-10T16:21:38.482508Z"
    }
   },
   "outputs": [
    {
     "data": {
      "text/plain": "array([[1, 2, 3, 4, 5],\n       [1, 2, 3, 4, 5],\n       [1, 2, 3, 4, 5],\n       [1, 2, 3, 4, 5],\n       [1, 2, 3, 4, 5],\n       [1, 2, 3, 4, 5],\n       [1, 2, 3, 4, 5],\n       [1, 2, 3, 4, 5],\n       [1, 2, 3, 4, 5],\n       [1, 2, 3, 4, 5]])"
     },
     "execution_count": 3,
     "metadata": {},
     "output_type": "execute_result"
    }
   ],
   "source": [
    "sales_record_list = [\n",
    "    \n",
    "    # test values\n",
    "    [1, 2, 3, 4, 5],\n",
    "    [1, 2, 3, 4, 5],\n",
    "    [1, 2, 3, 4, 5],\n",
    "    [1, 2, 3, 4, 5],\n",
    "    [1, 2, 3, 4, 5],\n",
    "    [1, 2, 3, 4, 5],\n",
    "    [1, 2, 3, 4, 5],\n",
    "    [1, 2, 3, 4, 5],\n",
    "    [1, 2, 3, 4, 5],\n",
    "    [1, 2, 3, 4, 5],\n",
    "\n",
    "    # actual values\n",
    "    # [344, 279, 1642, 1706, 647],\n",
    "    # [1817, 1803, 1282, 1990, 686],\n",
    "    # [2234, 365, 1473, 876, 152],\n",
    "    # [1321, 2347, 129, 1397, 2109],\n",
    "    # [2331, 93, 1403, 1736, 761],\n",
    "    # [2014, 985, 970, 2498, 212],\n",
    "    # [2488, 430, 2034, 910, 550],\n",
    "    # [1172, 695, 1816, 1428, 1169],\n",
    "    # [766, 1460, 704, 1783, 374],\n",
    "    # [1067, 1092, 2312, 1333, 369],\n",
    "]\n",
    "\n",
    "sales_record_array = np.array(sales_record_list)\n",
    "sales_record_array"
   ]
  },
  {
   "cell_type": "markdown",
   "id": "c12a71f1f25b8bfb",
   "metadata": {
    "collapsed": false
   },
   "source": [
    "### Create a new sales record array containing only sales records for Susan"
   ]
  },
  {
   "cell_type": "code",
   "execution_count": 4,
   "id": "f0831b5b4f7609d6",
   "metadata": {
    "collapsed": false,
    "ExecuteTime": {
     "end_time": "2024-02-10T16:21:38.493981Z",
     "start_time": "2024-02-10T16:21:38.490804Z"
    }
   },
   "outputs": [],
   "source": [
    "# Insert code here."
   ]
  },
  {
   "cell_type": "markdown",
   "id": "e60ccd8fadc721f",
   "metadata": {
    "collapsed": false
   },
   "source": [
    "### Calculate total units sold in each of Susan's sales records"
   ]
  },
  {
   "cell_type": "code",
   "execution_count": 5,
   "id": "43b289974f7b24c5",
   "metadata": {
    "collapsed": false,
    "ExecuteTime": {
     "end_time": "2024-02-10T16:21:38.513533Z",
     "start_time": "2024-02-10T16:21:38.494360Z"
    }
   },
   "outputs": [],
   "source": [
    "# Insert code here."
   ]
  },
  {
   "cell_type": "markdown",
   "id": "a693c4ab10a045d2",
   "metadata": {
    "collapsed": false
   },
   "source": [
    "### Calculate total units sold by Susan for each product"
   ]
  },
  {
   "cell_type": "code",
   "execution_count": 6,
   "id": "f49f80d759730632",
   "metadata": {
    "collapsed": false,
    "ExecuteTime": {
     "end_time": "2024-02-10T16:21:38.513979Z",
     "start_time": "2024-02-10T16:21:38.497683Z"
    }
   },
   "outputs": [],
   "source": [
    "# Insert code here."
   ]
  },
  {
   "cell_type": "markdown",
   "id": "5b2ff495c1bded5d",
   "metadata": {
    "collapsed": false
   },
   "source": [
    "### Calculate total units sold by Susan"
   ]
  },
  {
   "cell_type": "code",
   "execution_count": 7,
   "id": "da5147e2c858443d",
   "metadata": {
    "collapsed": false,
    "ExecuteTime": {
     "end_time": "2024-02-10T16:21:38.514326Z",
     "start_time": "2024-02-10T16:21:38.501326Z"
    }
   },
   "outputs": [],
   "source": [
    "# Insert code here."
   ]
  },
  {
   "cell_type": "markdown",
   "id": "95f502f4-988d-4cf4-9b65-bd6dbbea3802",
   "metadata": {
    "ExecuteTime": {
     "end_time": "2024-02-08T22:38:37.263144Z",
     "start_time": "2024-02-08T22:38:37.258515Z"
    },
    "collapsed": false
   },
   "source": [
    "### Calculate total units sold by Susan for the first and second products"
   ]
  },
  {
   "cell_type": "code",
   "execution_count": 8,
   "id": "93534079-f67c-468c-a95d-df0081b4776e",
   "metadata": {
    "ExecuteTime": {
     "end_time": "2024-02-10T16:21:38.514642Z",
     "start_time": "2024-02-10T16:21:38.504991Z"
    }
   },
   "outputs": [],
   "source": [
    "# Insert code here."
   ]
  },
  {
   "cell_type": "markdown",
   "id": "75f27eb45239b828",
   "metadata": {
    "collapsed": false
   },
   "source": [
    "### Calculate units sold by Susan for the fourth and fifth products"
   ]
  },
  {
   "cell_type": "code",
   "execution_count": 9,
   "id": "d77fb779a340ddb5",
   "metadata": {
    "collapsed": false,
    "ExecuteTime": {
     "end_time": "2024-02-10T16:21:38.514953Z",
     "start_time": "2024-02-10T16:21:38.508626Z"
    }
   },
   "outputs": [],
   "source": [
    "# Insert code here."
   ]
  }
 ],
 "metadata": {
  "kernelspec": {
   "display_name": "Python 3 (ipykernel)",
   "language": "python",
   "name": "python3"
  },
  "language_info": {
   "codemirror_mode": {
    "name": "ipython",
    "version": 3
   },
   "file_extension": ".py",
   "mimetype": "text/x-python",
   "name": "python",
   "nbconvert_exporter": "python",
   "pygments_lexer": "ipython3",
   "version": "3.11.5"
  }
 },
 "nbformat": 4,
 "nbformat_minor": 5
}
